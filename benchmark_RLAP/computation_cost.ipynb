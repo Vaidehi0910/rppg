{
 "cells": [
  {
   "cell_type": "code",
   "execution_count": null,
   "metadata": {},
   "outputs": [],
   "source": [
    "\"\"\"\n",
    "CPU: AMD Ryzen 9 5950x\n",
    "GPU: Nvidia Tesla M40 24G\n",
    "\"\"\""
   ]
  },
  {
   "cell_type": "code",
   "execution_count": null,
   "metadata": {},
   "outputs": [],
   "source": [
    "import sys\n",
    "sys.path.append(\"..\")\n",
    "from utils import *\n",
    "from models_torch import *"
   ]
  },
  {
   "cell_type": "code",
   "execution_count": 10,
   "metadata": {},
   "outputs": [
    {
     "name": "stdout",
     "output_type": "stream",
     "text": [
      "0.39ms per frame for PhysFormer on GPU\n"
     ]
    }
   ],
   "source": [
    "device = torch.device('cuda')\n",
    "valid_tape = \"Z:/rppg/ccnu_datatape_160x128x128_valid.h5\"\n",
    "valid = load_datatape(valid_tape)\n",
    "gra_sharp = 2.\n",
    "physformer = ViT_ST_ST_Compact3_TDC_gra_sharp(image_size=(160,128,128), patches=(4,4,4), dim=96, ff_dim=144, num_heads=4, num_layers=12, dropout_rate=0.1, theta=0.7).to(device)\n",
    "physformer.load_state_dict(torch.load('../weights/Physformer.pkl'))\n",
    "physformer.train()\n",
    "n, t = 0, 0\n",
    "with torch.no_grad():\n",
    "    for i, j in valid:\n",
    "        _ = time.time()\n",
    "        physformer(torch.tensor(np.array([i[..., [2, 1, 0]].transpose(3, 0, 1, 2)])).to(device).float()*2-1, gra_sharp)\n",
    "        t += time.time()-_\n",
    "        n += 1\n",
    "print(f'{t/n/160*1000:.2f}ms per frame for PhysFormer on GPU')"
   ]
  },
  {
   "cell_type": "code",
   "execution_count": 15,
   "metadata": {},
   "outputs": [],
   "source": [
    "for i, j in valid:\n",
    "    break\n",
    "i = np.array([i[..., [2, 1, 0]].transpose(3, 0, 1, 2)])\n",
    "np.save('tmp.npy', i)"
   ]
  },
  {
   "cell_type": "code",
   "execution_count": 16,
   "metadata": {},
   "outputs": [
    {
     "name": "stdout",
     "output_type": "stream",
     "text": [
      "3.97ms per frame for PhysFormer on CPU\n"
     ]
    }
   ],
   "source": [
    "device = torch.device('cpu')\n",
    "valid_tape = \"Z:/rppg/ccnu_datatape_160x128x128_valid.h5\"\n",
    "valid = load_datatape(valid_tape)\n",
    "gra_sharp = 2.\n",
    "physformer = ViT_ST_ST_Compact3_TDC_gra_sharp(image_size=(160,128,128), patches=(4,4,4), dim=96, ff_dim=144, num_heads=4, num_layers=12, dropout_rate=0.1, theta=0.7).to(device)\n",
    "physformer.load_state_dict(torch.load('../weights/Physformer.pkl'))\n",
    "physformer.train()\n",
    "n, t = 0, 0\n",
    "with torch.no_grad():\n",
    "    for i, j in valid:\n",
    "        _ = time.time()\n",
    "        physformer(torch.tensor(np.array([i[..., [2, 1, 0]].transpose(3, 0, 1, 2)])).to(device).float()*2-1, gra_sharp)\n",
    "        t += time.time()-_\n",
    "        n += 1\n",
    "print(f'{t/n/160*1000:.2f}ms per frame for PhysFormer on CPU')"
   ]
  },
  {
   "cell_type": "code",
   "execution_count": null,
   "metadata": {},
   "outputs": [],
   "source": [
    "import sys\n",
    "sys.path.append(\"..\")\n",
    "from utils import *\n",
    "from models import *"
   ]
  },
  {
   "cell_type": "code",
   "execution_count": 48,
   "metadata": {},
   "outputs": [
    {
     "name": "stdout",
     "output_type": "stream",
     "text": [
      "0.07ms per frame for TS-CAN on GPU\n",
      "0.62ms per frame for TS-CAN on CPU\n"
     ]
    }
   ],
   "source": [
    "ts_can = keras.models.load_model('weights/TS-CAN_2022_CCNU')\n",
    "valid_tape = to_tf(load_datatape(\"Z:/rppg/ccnu_datatape_160x36x36_valid.h5\"))\n",
    "n, t = 0, 0\n",
    "for i, j in valid_tape:\n",
    "    _ = time.time()\n",
    "    ts_can(i)\n",
    "    t += time.time()-_\n",
    "    n += 1\n",
    "print(f'{t/n/160*1000:.2f}ms per frame for TS-CAN on GPU')\n",
    "\n",
    "n, t = 0, 0\n",
    "with tf.device('/CPU:0'):\n",
    "    for i, j in valid_tape:\n",
    "        _ = time.time()\n",
    "        ts_can(i)\n",
    "        t += time.time()-_\n",
    "        n += 1\n",
    "print(f'{t/n/160*1000:.2f}ms per frame for TS-CAN on CPU')"
   ]
  },
  {
   "cell_type": "code",
   "execution_count": 44,
   "metadata": {},
   "outputs": [
    {
     "name": "stdout",
     "output_type": "stream",
     "text": [
      "0.04ms per frame for DeepPhys on GPU\n",
      "0.39ms per frame for DeepPhys on CPU\n"
     ]
    }
   ],
   "source": [
    "deep_phys = keras.models.load_model('weights/DeepPhys_CCNU')\n",
    "def to_tf_deep_phys(datatape, dtype=tf.float16):\n",
    "    def _():\n",
    "        for i, j in datatape:\n",
    "            yield i, tf.concat([j[1:]-j[:-1], [0]], axis=0)\n",
    "    return tf.data.Dataset.from_generator(lambda :_(), output_types=(dtype, dtype), output_shapes=(datatape.shape, datatape.shape[:1]))\n",
    "valid_tape = to_tf_deep_phys(load_datatape(\"Z:/rppg/ccnu_datatape_160x36x36_valid.h5\"))\n",
    "n, t = 0, 0\n",
    "for i, j in valid_tape:\n",
    "    _ = time.time()\n",
    "    deep_phys(i)\n",
    "    t += time.time()-_\n",
    "    n += 1\n",
    "print(f'{t/n/160*1000:.2f}ms per frame for DeepPhys on GPU')\n",
    "\n",
    "n, t = 0, 0\n",
    "with tf.device('/CPU:0'):\n",
    "    for i, j in valid_tape:\n",
    "        _ = time.time()\n",
    "        deep_phys(i)\n",
    "        t += time.time()-_\n",
    "        n += 1\n",
    "print(f'{t/n/160*1000:.2f}ms per frame for DeepPhys on CPU')"
   ]
  },
  {
   "cell_type": "code",
   "execution_count": 45,
   "metadata": {},
   "outputs": [
    {
     "name": "stdout",
     "output_type": "stream",
     "text": [
      "0.03ms per frame for PhysNet on GPU\n",
      "0.31ms per frame for PhysNet on CPU\n"
     ]
    }
   ],
   "source": [
    "physnet = keras.models.load_model('weights/PhysNet_CCNU', {'np_loss':np_loss})\n",
    "valid_tape = to_tf(load_datatape(\"Z:/rppg/ccnu_datatape_128x32x32_valid.h5\"))\n",
    "n, t = 0, 0\n",
    "for i, j in valid_tape:\n",
    "    _ = time.time()\n",
    "    physnet([i])\n",
    "    t += time.time()-_\n",
    "    n += 1\n",
    "print(f'{t/n/128*1000:.2f}ms per frame for PhysNet on GPU')\n",
    "\n",
    "n, t = 0, 0\n",
    "with tf.device('/CPU:0'):\n",
    "    for i, j in valid_tape:\n",
    "        _ = time.time()\n",
    "        physnet([i])\n",
    "        t += time.time()-_\n",
    "        n += 1\n",
    "print(f'{t/n/128*1000:.2f}ms per frame for PhysNet on CPU')\n"
   ]
  },
  {
   "cell_type": "code",
   "execution_count": 46,
   "metadata": {},
   "outputs": [
    {
     "name": "stdout",
     "output_type": "stream",
     "text": [
      "5.82μs per frame for ours on GPU\n",
      "27.89μs per frame for ours on CPU\n"
     ]
    }
   ],
   "source": [
    "ours = keras.models.load_model('weights/m1')\n",
    "valid_tape = to_tf(load_datatape(\"Z:/rppg/ccnu_datatape_450x8x8_valid.h5\"))\n",
    "n, t = 0, 0\n",
    "for i, j in valid_tape:\n",
    "    _ = time.time()\n",
    "    ours([i])\n",
    "    t += time.time()-_\n",
    "    n += 1\n",
    "print(f'{t/n/450*1e6:.2f}μs per frame for ours on GPU')\n",
    "\n",
    "n, t = 0, 0\n",
    "with tf.device('/CPU:0'):\n",
    "    for i, j in valid_tape:\n",
    "        _ = time.time()\n",
    "        ours([i])\n",
    "        t += time.time()-_\n",
    "        n += 1\n",
    "print(f'{t/n/450*1e6:.2f}μs per frame for ours on CPU')"
   ]
  },
  {
   "cell_type": "code",
   "execution_count": 49,
   "metadata": {},
   "outputs": [
    {
     "name": "stdout",
     "output_type": "stream",
     "text": [
      "6.56μs per frame for ours_large_input on GPU\n",
      "46.42μs per frame for ours_large_input on CPU\n"
     ]
    }
   ],
   "source": [
    "ours_large_input = keras.models.load_model('weights/m4')\n",
    "valid_tape = to_tf(load_datatape(\"Z:/rppg/ccnu_datatape_450x32x32_valid.h5\"))\n",
    "n, t = 0, 0\n",
    "for i, j in valid_tape:\n",
    "    _ = time.time()\n",
    "    ours_large_input([i])\n",
    "    t += time.time()-_\n",
    "    n += 1\n",
    "print(f'{t/n/450*1e6:.2f}μs per frame for ours_large_input on GPU')\n",
    "\n",
    "n, t = 0, 0\n",
    "with tf.device('/CPU:0'):\n",
    "    for i, j in valid_tape:\n",
    "        _ = time.time()\n",
    "        ours_large_input([i])\n",
    "        t += time.time()-_\n",
    "        n += 1\n",
    "print(f'{t/n/450*1e6:.2f}μs per frame for ours_large_input on CPU')"
   ]
  }
 ],
 "metadata": {
  "kernelspec": {
   "display_name": "dl",
   "language": "python",
   "name": "python3"
  },
  "language_info": {
   "codemirror_mode": {
    "name": "ipython",
    "version": 3
   },
   "file_extension": ".py",
   "mimetype": "text/x-python",
   "name": "python",
   "nbconvert_exporter": "python",
   "pygments_lexer": "ipython3",
   "version": "3.9.16"
  },
  "orig_nbformat": 4
 },
 "nbformat": 4,
 "nbformat_minor": 2
}
