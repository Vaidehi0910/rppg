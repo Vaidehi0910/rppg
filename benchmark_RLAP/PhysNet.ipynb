{
 "cells": [
  {
   "cell_type": "code",
   "execution_count": 1,
   "metadata": {},
   "outputs": [],
   "source": [
    "%load_ext autoreload\n",
    "%autoreload 2\n",
    "import sys\n",
    "sys.path.append(\"..\")\n",
    "from utils import *\n",
    "from models import *"
   ]
  },
  {
   "cell_type": "code",
   "execution_count": 2,
   "metadata": {},
   "outputs": [],
   "source": [
    "# RGB scale\n",
    "train_tape = \"C:/rppg/cohface_datatape_128x32x32_train.h5\"\n",
    "valid_tape = \"C:/rppg/cohface_datatape_128x32x32_valid.h5\"\n",
    "\n",
    "train =  load_datatape(train_tape, use_normalized_bvp=True)\n",
    "valid = load_datatape(valid_tape, use_normalized_bvp=False)\n",
    "\n",
    "#train, valid = to_tf(train).cache(f'{tmp}/physnet'), to_tf(valid).cache(f'{tmp}/physnet')\n",
    "train, valid = to_tf(train), to_tf(valid)"
   ]
  },
  {
   "cell_type": "code",
   "execution_count": 3,
   "metadata": {},
   "outputs": [
    {
     "name": "stdout",
     "output_type": "stream",
     "text": [
      "WARNING:tensorflow:From C:\\Users\\asust\\anaconda3\\Lib\\site-packages\\tensorflow\\python\\ops\\nn_ops.py:5234: tensor_shape_from_node_def_name (from tensorflow.python.framework.graph_util_impl) is deprecated and will be removed in a future version.\n",
      "Instructions for updating:\n",
      "This API was designed for TensorFlow v1. See https://www.tensorflow.org/guide/migrate for instructions on how to migrate your code to TensorFlow v2.\n",
      "Flops per frame:54260867\n",
      "Model: \"phys_net\"\n",
      "_________________________________________________________________\n",
      " Layer (type)                Output Shape              Param #   \n",
      "=================================================================\n",
      " sequential (Sequential)     (None, 128, 32, 32, 16)   1280      \n",
      "                                                                 \n",
      " sequential_1 (Sequential)   (None, 128, 16, 16, 32)   13984     \n",
      "                                                                 \n",
      " sequential_2 (Sequential)   (None, 128, 16, 16, 64)   55616     \n",
      "                                                                 \n",
      " sequential_3 (Sequential)   (None, 64, 8, 8, 64)      110912    \n",
      "                                                                 \n",
      " sequential_4 (Sequential)   (None, 64, 8, 8, 64)      110912    \n",
      "                                                                 \n",
      " sequential_5 (Sequential)   (None, 32, 4, 4, 64)      110912    \n",
      "                                                                 \n",
      " sequential_6 (Sequential)   (None, 32, 4, 4, 64)      110912    \n",
      "                                                                 \n",
      " sequential_7 (Sequential)   (None, 32, 2, 2, 64)      110912    \n",
      "                                                                 \n",
      " sequential_8 (Sequential)   (None, 32, 2, 2, 64)      110912    \n",
      "                                                                 \n",
      " sequential_9 (Sequential)   (None, 64, 2, 2, 64)      16704     \n",
      "                                                                 \n",
      " sequential_10 (Sequential)  (None, 128, 2, 2, 64)     16704     \n",
      "                                                                 \n",
      " conv3d_9 (Conv3D)           multiple                  65        \n",
      "                                                                 \n",
      " max_pooling3d (MaxPooling3  multiple                  0         \n",
      " D)                                                              \n",
      "                                                                 \n",
      " max_pooling3d_1 (MaxPoolin  multiple                  0         \n",
      " g3D)                                                            \n",
      "                                                                 \n",
      " average_pooling3d (Average  multiple                  0         \n",
      " Pooling3D)                                                      \n",
      "                                                                 \n",
      " reshape (Reshape)           multiple                  0         \n",
      "                                                                 \n",
      "=================================================================\n",
      "Total params: 769825 (2.94 MB)\n",
      "Trainable params: 768577 (2.93 MB)\n",
      "Non-trainable params: 1248 (4.88 KB)\n",
      "_________________________________________________________________\n"
     ]
    }
   ],
   "source": [
    "# RGB Scale\n",
    "phys_net = PhysNet()\n",
    "phys_net.compile(optimizer=keras.optimizers.SGD(learning_rate=0.005), loss=np_loss)\n",
    "phys_net.build(input_shape=(None, 128, 32, 32, 3))\n",
    "print(f'Flops per frame:{get_flops(phys_net, input_sig=[tf.TensorSpec([1, 128, 32, 32, 3])])/128:.0f}')\n",
    "phys_net.summary()"
   ]
  },
  {
   "cell_type": "code",
   "execution_count": 4,
   "metadata": {},
   "outputs": [
    {
     "name": "stdout",
     "output_type": "stream",
     "text": [
      "Epoch 1/3\n",
      "     85/Unknown - 1151s 13s/step - loss: 0.9667\n",
      "Epoch 1: val_loss improved from inf to 0.99786, saving model to ../weights\\PhysNet_CCNU.h5\n",
      "85/85 [==============================] - 1247s 15s/step - loss: 0.9667 - val_loss: 0.9979\n",
      "Epoch 2/3\n",
      "85/85 [==============================] - ETA: 0s - loss: 0.8551 \n",
      "Epoch 2: val_loss improved from 0.99786 to 0.99041, saving model to ../weights\\PhysNet_CCNU.h5\n",
      "85/85 [==============================] - 1247s 15s/step - loss: 0.8551 - val_loss: 0.9904\n",
      "Epoch 3/3\n",
      "85/85 [==============================] - ETA: 0s - loss: 0.6954 \n",
      "Epoch 3: val_loss improved from 0.99041 to 0.96438, saving model to ../weights\\PhysNet_CCNU.h5\n",
      "85/85 [==============================] - 1256s 15s/step - loss: 0.6954 - val_loss: 0.9644\n"
     ]
    }
   ],
   "source": [
    "phys_net.fit(train.shuffle(2000).batch(32), validation_data=valid.batch(32), epochs=3, callbacks=[keras.callbacks.ModelCheckpoint('../weights/PhysNet_CCNU.h5', monitor='val_loss', verbose=1, save_best_only=True, mode='min', save_weights_only=True)])\n",
    "phys_net.load_weights('../weights/PhysNet_CCNU.h5')"
   ]
  },
  {
   "cell_type": "code",
   "execution_count": 2,
   "metadata": {},
   "outputs": [],
   "source": [
    "# gray scale\n",
    "train_tape = \"C:/rppg/cohface_datatape_gray2_128x32x32_train.h5\"\n",
    "valid_tape = \"C:/rppg/cohface_datatape_gray2_128x32x32_valid.h5\"\n",
    "\n",
    "train =  load_datatape(train_tape, use_normalized_bvp=True)\n",
    "valid = load_datatape(valid_tape, use_normalized_bvp=False)\n",
    "\n",
    "#train, valid = to_tf(train).cache(f'{tmp}/physnet'), to_tf(valid).cache(f'{tmp}/physnet')\n",
    "train, valid = to_tf(train), to_tf(valid)"
   ]
  },
  {
   "cell_type": "code",
   "execution_count": 3,
   "metadata": {},
   "outputs": [
    {
     "name": "stdout",
     "output_type": "stream",
     "text": [
      "WARNING:tensorflow:From C:\\Users\\asust\\anaconda3\\Lib\\site-packages\\tensorflow\\python\\ops\\nn_ops.py:5253: tensor_shape_from_node_def_name (from tensorflow.python.framework.graph_util_impl) is deprecated and will be removed in a future version.\n",
      "Instructions for updating:\n",
      "This API was designed for TensorFlow v1. See https://www.tensorflow.org/guide/migrate for instructions on how to migrate your code to TensorFlow v2.\n",
      "Flops per frame:1766339\n",
      "Model: \"phys_net_gray\"\n",
      "_________________________________________________________________\n",
      " Layer (type)                Output Shape              Param #   \n",
      "=================================================================\n",
      " sequential (Sequential)     (None, 128, 32, 16)       2640      \n",
      "                                                                 \n",
      " sequential_1 (Sequential)   (None, 128, 16, 32)       4768      \n",
      "                                                                 \n",
      " sequential_2 (Sequential)   (None, 128, 16, 64)       18752     \n",
      "                                                                 \n",
      " sequential_3 (Sequential)   (None, 64, 8, 64)         37184     \n",
      "                                                                 \n",
      " sequential_4 (Sequential)   (None, 64, 8, 64)         37184     \n",
      "                                                                 \n",
      " sequential_5 (Sequential)   (None, 32, 4, 64)         37184     \n",
      "                                                                 \n",
      " sequential_6 (Sequential)   (None, 32, 4, 64)         37184     \n",
      "                                                                 \n",
      " sequential_7 (Sequential)   (None, 32, 2, 64)         37184     \n",
      "                                                                 \n",
      " sequential_8 (Sequential)   (None, 32, 2, 64)         37184     \n",
      "                                                                 \n",
      " sequential_9 (Sequential)   (None, 64, 2, 64)         16704     \n",
      "                                                                 \n",
      " sequential_10 (Sequential)  (None, 128, 2, 64)        16704     \n",
      "                                                                 \n",
      " conv2d_9 (Conv2D)           multiple                  65        \n",
      "                                                                 \n",
      " max_pooling2d (MaxPooling2  multiple                  0         \n",
      " D)                                                              \n",
      "                                                                 \n",
      " max_pooling2d_1 (MaxPoolin  multiple                  0         \n",
      " g2D)                                                            \n",
      "                                                                 \n",
      " average_pooling2d (Average  multiple                  0         \n",
      " Pooling2D)                                                      \n",
      "                                                                 \n",
      " reshape (Reshape)           multiple                  0         \n",
      "                                                                 \n",
      "=================================================================\n",
      "Total params: 282737 (1.08 MB)\n",
      "Trainable params: 281489 (1.07 MB)\n",
      "Non-trainable params: 1248 (4.88 KB)\n",
      "_________________________________________________________________\n"
     ]
    }
   ],
   "source": [
    "# Gray Scale\n",
    "phys_net = PhysNetGray()\n",
    "phys_net.compile(optimizer=keras.optimizers.SGD(learning_rate=0.005), loss=np_loss)\n",
    "phys_net.build(input_shape=(None, 128, 32, 32))\n",
    "print(f'Flops per frame:{get_flops(phys_net, input_sig=[tf.TensorSpec([1, 128, 32, 32])])/128:.0f}')\n",
    "phys_net.summary()"
   ]
  },
  {
   "cell_type": "code",
   "execution_count": 4,
   "metadata": {},
   "outputs": [
    {
     "name": "stdout",
     "output_type": "stream",
     "text": [
      "Epoch 1/3\n",
      "     85/Unknown - 17s 160ms/step - loss: 0.9890\n",
      "Epoch 1: val_loss improved from inf to 0.99204, saving model to ../weights\\PhysNet_CCNU.h5\n",
      "85/85 [==============================] - 21s 215ms/step - loss: 0.9890 - val_loss: 0.9920\n",
      "Epoch 2/3\n",
      "85/85 [==============================] - ETA: 0s - loss: 0.9539\n",
      "Epoch 2: val_loss did not improve from 0.99204\n",
      "85/85 [==============================] - 19s 211ms/step - loss: 0.9539 - val_loss: 0.9921\n",
      "Epoch 3/3\n",
      "85/85 [==============================] - ETA: 0s - loss: 0.9096\n",
      "Epoch 3: val_loss improved from 0.99204 to 0.99194, saving model to ../weights\\PhysNet_CCNU.h5\n",
      "85/85 [==============================] - 19s 214ms/step - loss: 0.9096 - val_loss: 0.9919\n"
     ]
    }
   ],
   "source": [
    "# grayscale\n",
    "phys_net.fit(train.shuffle(2000).batch(32), validation_data=valid.batch(32), epochs=3, callbacks=[keras.callbacks.ModelCheckpoint('../weights/PhysNet_CCNU.h5', monitor='val_loss', verbose=1, save_best_only=True, mode='min', save_weights_only=True)])\n",
    "phys_net.load_weights('../weights/PhysNet_CCNU.h5')"
   ]
  },
  {
   "cell_type": "code",
   "execution_count": 10,
   "metadata": {},
   "outputs": [],
   "source": [
    "phys_net.load_weights('../weights/PhysNet_CCNU.h5')"
   ]
  },
  {
   "cell_type": "code",
   "execution_count": 12,
   "metadata": {},
   "outputs": [
    {
     "name": "stderr",
     "output_type": "stream",
     "text": [
      "  0%|                                                                                          | 0/164 [00:00<?, ?it/s]\n"
     ]
    },
    {
     "name": "stdout",
     "output_type": "stream",
     "text": [
      "Unexpected exception formatting exception. Falling back to standard exception\n"
     ]
    },
    {
     "name": "stderr",
     "output_type": "stream",
     "text": [
      "Traceback (most recent call last):\n",
      "  File \"C:\\Users\\asust\\anaconda3\\Lib\\site-packages\\IPython\\core\\interactiveshell.py\", line 3526, in run_code\n",
      "    exec(code_obj, self.user_global_ns, self.user_ns)\n",
      "  File \"C:\\Users\\asust\\AppData\\Local\\Temp\\ipykernel_19832\\1943848672.py\", line 1, in <module>\n",
      "    eval_on_dataset(test_set_COHFACE, phys_net, 128, (32, 32), step=1, batch=32, save='../results/PhysNet_CCNU_cohface.h5', sample=cv2.INTER_CUBIC)\n",
      "  File \"C:\\Users\\asust\\Downloads\\PhysBench-main\\PhysBench-main\\benchmark_RLAP\\..\\utils.py\", line 814, in eval_on_dataset\n",
      "    o = model(np.stack([i[1] for i in ipt[idx:idx+batch]]).astype(ipt_dtype))\n",
      "        ^^^^^^^^^^^^^^^^^^^^^^^^^^^^^^^^^^^^^^^^^^^^^^^^^^^^^^^^^^^^^^^^^^^^^\n",
      "  File \"C:\\Users\\asust\\anaconda3\\Lib\\site-packages\\keras\\src\\utils\\traceback_utils.py\", line 70, in error_handler\n",
      "    raise e.with_traceback(filtered_tb) from None\n",
      "  File \"C:\\Users\\asust\\Downloads\\PhysBench-main\\PhysBench-main\\benchmark_RLAP\\..\\models.py\", line 467, in call\n",
      "    x = self.ConvBlock1(x, training=training)\n",
      "        ^^^^^^^^^^^^^^^^^^^^^^^^^^^^^^^^^^^^^\n",
      "ValueError: Exception encountered when calling layer 'sequential_22' (type Sequential).\n",
      "\n",
      "Input 0 of layer \"conv3d_10\" is incompatible with the layer: expected min_ndim=5, found ndim=4. Full shape received: (32, 128, 32, 32)\n",
      "\n",
      "Call arguments received by layer 'sequential_22' (type Sequential):\n",
      "  • inputs=tf.Tensor(shape=(32, 128, 32, 32), dtype=float32)\n",
      "  • training=True\n",
      "  • mask=None\n",
      "\n",
      "During handling of the above exception, another exception occurred:\n",
      "\n",
      "Traceback (most recent call last):\n",
      "  File \"C:\\Users\\asust\\anaconda3\\Lib\\site-packages\\IPython\\core\\interactiveshell.py\", line 2120, in showtraceback\n",
      "    stb = self.InteractiveTB.structured_traceback(\n",
      "          ^^^^^^^^^^^^^^^^^^^^^^^^^^^^^^^^^^^^^^^^\n",
      "  File \"C:\\Users\\asust\\anaconda3\\Lib\\site-packages\\IPython\\core\\ultratb.py\", line 1435, in structured_traceback\n",
      "    return FormattedTB.structured_traceback(\n",
      "           ^^^^^^^^^^^^^^^^^^^^^^^^^^^^^^^^^\n",
      "  File \"C:\\Users\\asust\\anaconda3\\Lib\\site-packages\\IPython\\core\\ultratb.py\", line 1326, in structured_traceback\n",
      "    return VerboseTB.structured_traceback(\n",
      "           ^^^^^^^^^^^^^^^^^^^^^^^^^^^^^^^\n",
      "  File \"C:\\Users\\asust\\anaconda3\\Lib\\site-packages\\IPython\\core\\ultratb.py\", line 1173, in structured_traceback\n",
      "    formatted_exception = self.format_exception_as_a_whole(etype, evalue, etb, number_of_lines_of_context,\n",
      "                          ^^^^^^^^^^^^^^^^^^^^^^^^^^^^^^^^^^^^^^^^^^^^^^^^^^^^^^^^^^^^^^^^^^^^^^^^^^^^^^^^\n",
      "  File \"C:\\Users\\asust\\anaconda3\\Lib\\site-packages\\IPython\\core\\ultratb.py\", line 1088, in format_exception_as_a_whole\n",
      "    frames.append(self.format_record(record))\n",
      "                  ^^^^^^^^^^^^^^^^^^^^^^^^^^\n",
      "  File \"C:\\Users\\asust\\anaconda3\\Lib\\site-packages\\IPython\\core\\ultratb.py\", line 970, in format_record\n",
      "    frame_info.lines, Colors, self.has_colors, lvals\n",
      "    ^^^^^^^^^^^^^^^^\n",
      "  File \"C:\\Users\\asust\\anaconda3\\Lib\\site-packages\\IPython\\core\\ultratb.py\", line 792, in lines\n",
      "    return self._sd.lines\n",
      "           ^^^^^^^^^^^^^^\n",
      "  File \"C:\\Users\\asust\\anaconda3\\Lib\\site-packages\\stack_data\\utils.py\", line 145, in cached_property_wrapper\n",
      "    value = obj.__dict__[self.func.__name__] = self.func(obj)\n",
      "                                               ^^^^^^^^^^^^^^\n",
      "  File \"C:\\Users\\asust\\anaconda3\\Lib\\site-packages\\stack_data\\core.py\", line 698, in lines\n",
      "    pieces = self.included_pieces\n",
      "             ^^^^^^^^^^^^^^^^^^^^\n",
      "  File \"C:\\Users\\asust\\anaconda3\\Lib\\site-packages\\stack_data\\utils.py\", line 145, in cached_property_wrapper\n",
      "    value = obj.__dict__[self.func.__name__] = self.func(obj)\n",
      "                                               ^^^^^^^^^^^^^^\n",
      "  File \"C:\\Users\\asust\\anaconda3\\Lib\\site-packages\\stack_data\\core.py\", line 649, in included_pieces\n",
      "    pos = scope_pieces.index(self.executing_piece)\n",
      "                             ^^^^^^^^^^^^^^^^^^^^\n",
      "  File \"C:\\Users\\asust\\anaconda3\\Lib\\site-packages\\stack_data\\utils.py\", line 145, in cached_property_wrapper\n",
      "    value = obj.__dict__[self.func.__name__] = self.func(obj)\n",
      "                                               ^^^^^^^^^^^^^^\n",
      "  File \"C:\\Users\\asust\\anaconda3\\Lib\\site-packages\\stack_data\\core.py\", line 628, in executing_piece\n",
      "    return only(\n",
      "           ^^^^^\n",
      "  File \"C:\\Users\\asust\\anaconda3\\Lib\\site-packages\\executing\\executing.py\", line 164, in only\n",
      "    raise NotOneValueFound('Expected one value, found 0')\n",
      "executing.executing.NotOneValueFound: Expected one value, found 0\n"
     ]
    }
   ],
   "source": [
    "eval_on_dataset(test_set_CCNU, phys_net, 128, (32, 32), step=1, batch=32, save='../results/PhysNet_CCNU_cohface_gray.h5', sample=cv2.INTER_CUBIC)\n",
    "get_metrics('../results/PhysNet_CCNU_cohface.h5')"
   ]
  },
  {
   "cell_type": "code",
   "execution_count": 5,
   "metadata": {},
   "outputs": [
    {
     "data": {
      "text/plain": [
       "{'SDNN': {'MAE': 36.441, 'RMSE': 43.784, 'R': 0.30584}}"
      ]
     },
     "execution_count": 5,
     "metadata": {},
     "output_type": "execute_result"
    }
   ],
   "source": [
    "#eval_on_dataset(test_set_CCNU_rPPG, phys_net, 128, (32, 32), step=1, batch=32, save='../results/PhysNet_CCNU_CCNU_rPPG.h5', sample=cv2.INTER_CUBIC)\n",
    "#get_metrics('../results/PhysNet_CCNU_CCNU_rPPG.h5')\n",
    "get_metrics_HRV('../results/PhysNet_CCNU_CCNU_rPPG.h5')"
   ]
  },
  {
   "cell_type": "code",
   "execution_count": 4,
   "metadata": {},
   "outputs": [
    {
     "name": "stderr",
     "output_type": "stream",
     "text": [
      "x:\\Users\\wkg\\anaconda3\\envs\\dl\\lib\\site-packages\\numpy\\core\\fromnumeric.py:3432: RuntimeWarning: Mean of empty slice.\n",
      "  return _methods._mean(a, axis=axis, dtype=dtype,\n",
      "x:\\Users\\wkg\\anaconda3\\envs\\dl\\lib\\site-packages\\numpy\\core\\_methods.py:265: RuntimeWarning: Degrees of freedom <= 0 for slice\n",
      "  ret = _var(a, axis=axis, dtype=dtype, out=out, ddof=ddof,\n",
      "x:\\Users\\wkg\\anaconda3\\envs\\dl\\lib\\site-packages\\numpy\\ma\\core.py:5288: RuntimeWarning: Mean of empty slice.\n",
      "  result = super().mean(axis=axis, dtype=dtype, **kwargs)[()]\n",
      "x:\\Users\\wkg\\anaconda3\\envs\\dl\\lib\\site-packages\\numpy\\core\\fromnumeric.py:3715: RuntimeWarning: Degrees of freedom <= 0 for slice\n",
      "  return _methods._var(a, axis=axis, dtype=dtype, out=out, ddof=ddof,\n"
     ]
    },
    {
     "data": {
      "text/plain": [
       "{'SDNN': {'MAE': 22.51, 'RMSE': 35.702, 'R': 0.56025}}"
      ]
     },
     "execution_count": 4,
     "metadata": {},
     "output_type": "execute_result"
    }
   ],
   "source": [
    "#eval_on_dataset(test_set_PURE, phys_net, 128, (32, 32), step=1, batch=32, save='../results/PhysNet_CCNU_PURE.h5', sample=cv2.INTER_CUBIC)\n",
    "#get_metrics('../results/PhysNet_CCNU_PURE.h5')\n",
    "get_metrics_HRV('../results/PhysNet_CCNU_PURE.h5')"
   ]
  },
  {
   "cell_type": "code",
   "execution_count": 3,
   "metadata": {},
   "outputs": [
    {
     "name": "stderr",
     "output_type": "stream",
     "text": [
      "x:\\Users\\wkg\\anaconda3\\envs\\dl\\lib\\site-packages\\scipy\\interpolate\\_fitpack2.py:298: UserWarning: \n",
      "The maximal number of iterations maxit (set to 20 by the program)\n",
      "allowed for finding a smoothing spline with fp=s has been reached: s\n",
      "too small.\n",
      "There is an approximation returned but the corresponding weighted sum\n",
      "of squared residuals does not satisfy the condition abs(fp-s)/s < tol.\n",
      "  warnings.warn(message)\n"
     ]
    },
    {
     "data": {
      "text/plain": [
       "{'SDNN': {'MAE': 12.189, 'RMSE': 14.907, 'R': 0.88684}}"
      ]
     },
     "execution_count": 3,
     "metadata": {},
     "output_type": "execute_result"
    }
   ],
   "source": [
    "#eval_on_dataset(test_set_UBFC_rPPG2, phys_net, 128, (32, 32), step=1, batch=32, save='../results/PhysNet_CCNU_UBFC.h5', sample=cv2.INTER_CUBIC)\n",
    "#get_metrics('../results/PhysNet_CCNU_UBFC.h5')\n",
    "get_metrics_HRV('../results/PhysNet_CCNU_UBFC.h5')"
   ]
  },
  {
   "cell_type": "code",
   "execution_count": 7,
   "metadata": {},
   "outputs": [
    {
     "data": {
      "text/plain": [
       "{'Sliding window': {'MAE': 1.657, 'RMSE': 4.498, 'R': 0.8773},\n",
       " 'Whole video': {'MAE': 0.972, 'RMSE': 1.453, 'R': 0.98796}}"
      ]
     },
     "execution_count": 7,
     "metadata": {},
     "output_type": "execute_result"
    }
   ],
   "source": [
    "#eval_on_dataset(test_set_MMPD, phys_net, 128, (32, 32), step=1, batch=32, save='../results/PhysNet_CCNU_MMPD.h5', sample=cv2.INTER_CUBIC)\n",
    "get_metrics('../results/PhysNet_CCNU_MMPD.h5', motion='Stationary', skin_color='3', light=['LED-high', 'LED-low', 'Incandescent'])"
   ]
  },
  {
   "cell_type": "code",
   "execution_count": 13,
   "metadata": {},
   "outputs": [
    {
     "name": "stderr",
     "output_type": "stream",
     "text": [
      "  0%|                                                                                          | 0/164 [00:00<?, ?it/s]"
     ]
    },
    {
     "name": "stdout",
     "output_type": "stream",
     "text": [
      "Unexpected exception formatting exception. Falling back to standard exception\n"
     ]
    },
    {
     "name": "stderr",
     "output_type": "stream",
     "text": [
      "\n",
      "Traceback (most recent call last):\n",
      "  File \"C:\\Users\\asust\\anaconda3\\Lib\\site-packages\\IPython\\core\\interactiveshell.py\", line 3526, in run_code\n",
      "    exec(code_obj, self.user_global_ns, self.user_ns)\n",
      "  File \"C:\\Users\\asust\\AppData\\Local\\Temp\\ipykernel_19832\\2500310600.py\", line 1, in <module>\n",
      "    eval_on_dataset(test_set_COHFACE, phys_net, 128, (32, 32), step=1, batch=32, save='../results/PhysNet_CCNU_COHFACE.h5')\n",
      "  File \"C:\\Users\\asust\\Downloads\\PhysBench-main\\PhysBench-main\\benchmark_RLAP\\..\\utils.py\", line 814, in eval_on_dataset\n",
      "    o = model(np.stack([i[1] for i in ipt[idx:idx+batch]]).astype(ipt_dtype))\n",
      "        ^^^^^^^^^^^^^^^^^^^^^^^^^^^^^^^^^^^^^^^^^^^^^^^^^^^^^^^^^^^^^^^^^^^^^\n",
      "  File \"C:\\Users\\asust\\anaconda3\\Lib\\site-packages\\keras\\src\\utils\\traceback_utils.py\", line 70, in error_handler\n",
      "    raise e.with_traceback(filtered_tb) from None\n",
      "  File \"C:\\Users\\asust\\Downloads\\PhysBench-main\\PhysBench-main\\benchmark_RLAP\\..\\models.py\", line 467, in call\n",
      "    x = self.ConvBlock1(x, training=training)\n",
      "        ^^^^^^^^^^^^^^^^^^^^^^^^^^^^^^^^^^^^^\n",
      "ValueError: Exception encountered when calling layer 'sequential_22' (type Sequential).\n",
      "\n",
      "Input 0 of layer \"conv3d_10\" is incompatible with the layer: expected min_ndim=5, found ndim=4. Full shape received: (32, 128, 32, 32)\n",
      "\n",
      "Call arguments received by layer 'sequential_22' (type Sequential):\n",
      "  • inputs=tf.Tensor(shape=(32, 128, 32, 32), dtype=float32)\n",
      "  • training=True\n",
      "  • mask=None\n",
      "\n",
      "During handling of the above exception, another exception occurred:\n",
      "\n",
      "Traceback (most recent call last):\n",
      "  File \"C:\\Users\\asust\\anaconda3\\Lib\\site-packages\\IPython\\core\\interactiveshell.py\", line 2120, in showtraceback\n",
      "    stb = self.InteractiveTB.structured_traceback(\n",
      "          ^^^^^^^^^^^^^^^^^^^^^^^^^^^^^^^^^^^^^^^^\n",
      "  File \"C:\\Users\\asust\\anaconda3\\Lib\\site-packages\\IPython\\core\\ultratb.py\", line 1435, in structured_traceback\n",
      "    return FormattedTB.structured_traceback(\n",
      "           ^^^^^^^^^^^^^^^^^^^^^^^^^^^^^^^^^\n",
      "  File \"C:\\Users\\asust\\anaconda3\\Lib\\site-packages\\IPython\\core\\ultratb.py\", line 1326, in structured_traceback\n",
      "    return VerboseTB.structured_traceback(\n",
      "           ^^^^^^^^^^^^^^^^^^^^^^^^^^^^^^^\n",
      "  File \"C:\\Users\\asust\\anaconda3\\Lib\\site-packages\\IPython\\core\\ultratb.py\", line 1173, in structured_traceback\n",
      "    formatted_exception = self.format_exception_as_a_whole(etype, evalue, etb, number_of_lines_of_context,\n",
      "                          ^^^^^^^^^^^^^^^^^^^^^^^^^^^^^^^^^^^^^^^^^^^^^^^^^^^^^^^^^^^^^^^^^^^^^^^^^^^^^^^^\n",
      "  File \"C:\\Users\\asust\\anaconda3\\Lib\\site-packages\\IPython\\core\\ultratb.py\", line 1088, in format_exception_as_a_whole\n",
      "    frames.append(self.format_record(record))\n",
      "                  ^^^^^^^^^^^^^^^^^^^^^^^^^^\n",
      "  File \"C:\\Users\\asust\\anaconda3\\Lib\\site-packages\\IPython\\core\\ultratb.py\", line 970, in format_record\n",
      "    frame_info.lines, Colors, self.has_colors, lvals\n",
      "    ^^^^^^^^^^^^^^^^\n",
      "  File \"C:\\Users\\asust\\anaconda3\\Lib\\site-packages\\IPython\\core\\ultratb.py\", line 792, in lines\n",
      "    return self._sd.lines\n",
      "           ^^^^^^^^^^^^^^\n",
      "  File \"C:\\Users\\asust\\anaconda3\\Lib\\site-packages\\stack_data\\utils.py\", line 145, in cached_property_wrapper\n",
      "    value = obj.__dict__[self.func.__name__] = self.func(obj)\n",
      "                                               ^^^^^^^^^^^^^^\n",
      "  File \"C:\\Users\\asust\\anaconda3\\Lib\\site-packages\\stack_data\\core.py\", line 698, in lines\n",
      "    pieces = self.included_pieces\n",
      "             ^^^^^^^^^^^^^^^^^^^^\n",
      "  File \"C:\\Users\\asust\\anaconda3\\Lib\\site-packages\\stack_data\\utils.py\", line 145, in cached_property_wrapper\n",
      "    value = obj.__dict__[self.func.__name__] = self.func(obj)\n",
      "                                               ^^^^^^^^^^^^^^\n",
      "  File \"C:\\Users\\asust\\anaconda3\\Lib\\site-packages\\stack_data\\core.py\", line 649, in included_pieces\n",
      "    pos = scope_pieces.index(self.executing_piece)\n",
      "                             ^^^^^^^^^^^^^^^^^^^^\n",
      "  File \"C:\\Users\\asust\\anaconda3\\Lib\\site-packages\\stack_data\\utils.py\", line 145, in cached_property_wrapper\n",
      "    value = obj.__dict__[self.func.__name__] = self.func(obj)\n",
      "                                               ^^^^^^^^^^^^^^\n",
      "  File \"C:\\Users\\asust\\anaconda3\\Lib\\site-packages\\stack_data\\core.py\", line 628, in executing_piece\n",
      "    return only(\n",
      "           ^^^^^\n",
      "  File \"C:\\Users\\asust\\anaconda3\\Lib\\site-packages\\executing\\executing.py\", line 164, in only\n",
      "    raise NotOneValueFound('Expected one value, found 0')\n",
      "executing.executing.NotOneValueFound: Expected one value, found 0\n"
     ]
    }
   ],
   "source": [
    "eval_on_dataset(test_set_COHFACE, phys_net, 128, (32, 32), step=1, batch=32, save='../results/PhysNet_CCNU_COHFACE.h5')\n",
    "get_metrics('../results/PhysNet_CCNU_COHFACE.h5')"
   ]
  },
  {
   "cell_type": "code",
   "execution_count": 8,
   "metadata": {},
   "outputs": [
    {
     "name": "stderr",
     "output_type": "stream",
     "text": [
      "100%|████████████████████████████████████████████████████████████████████████████████| 164/164 [05:40<00:00,  2.08s/it]\n"
     ]
    },
    {
     "data": {
      "text/plain": [
       "{'Sliding window': {'MAE': 19.608, 'RMSE': 26.239, 'R': -0.257},\n",
       " 'Whole video': {'MAE': 20.214, 'RMSE': 27.242, 'R': -0.39406}}"
      ]
     },
     "execution_count": 8,
     "metadata": {},
     "output_type": "execute_result"
    }
   ],
   "source": [
    "eval_on_dataset(test_set_COHFACE, phys_net, 128, (32, 32), step=1, batch=32, save='../results/PhysNet_CCNU_cohface_gray.h5', sample=cv2.INTER_CUBIC)\n",
    "get_metrics('../results/PhysNet_CCNU_cohface_gray.h5')"
   ]
  }
 ],
 "metadata": {
  "kernelspec": {
   "display_name": "Python 3 (ipykernel)",
   "language": "python",
   "name": "python3"
  },
  "language_info": {
   "codemirror_mode": {
    "name": "ipython",
    "version": 3
   },
   "file_extension": ".py",
   "mimetype": "text/x-python",
   "name": "python",
   "nbconvert_exporter": "python",
   "pygments_lexer": "ipython3",
   "version": "3.11.5"
  },
  "vscode": {
   "interpreter": {
    "hash": "ef3e367c2466be0f305882ce2bcd0e67eb2cbba315c01407a1a54a3d07e5496a"
   }
  }
 },
 "nbformat": 4,
 "nbformat_minor": 2
}
