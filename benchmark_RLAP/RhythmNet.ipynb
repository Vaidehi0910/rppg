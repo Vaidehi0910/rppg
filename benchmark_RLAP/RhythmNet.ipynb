{
 "cells": [
  {
   "cell_type": "code",
   "execution_count": 1,
   "metadata": {},
   "outputs": [],
   "source": [
    "%load_ext autoreload\n",
    "%autoreload 2\n",
    "import sys\n",
    "sys.path.append(\"..\")\n",
    "from utils import *\n",
    "from models import *"
   ]
  },
  {
   "cell_type": "code",
   "execution_count": 2,
   "metadata": {},
   "outputs": [],
   "source": [
    "train_tape = \"Z:/rppg/ccnu_datatape_300x5x5_train.h5\"\n",
    "valid_tape = \"Z:/rppg/ccnu_datatape_300x5x5_valid.h5\"\n",
    "\n",
    "train = load_datatape(train_tape)\n",
    "valid = load_datatape(valid_tape)\n",
    "\n",
    "def to_rhythm(datatape, dtype=tf.float16):\n",
    "    s = datatape.shape\n",
    "    def _():\n",
    "        for i, j in datatape:\n",
    "            i = i.reshape((s[0], s[1]*s[2], s[3]))\n",
    "            i = cv2.cvtColor(i.astype(np.float32), cv2.COLOR_RGB2YUV)\n",
    "            j = [get_hr(j)]\n",
    "            yield i, j\n",
    "    return tf.data.Dataset.from_generator(lambda :_(), output_types=(dtype, dtype), output_shapes=((s[0], s[1]*s[2], s[3]), (1,)))\n",
    "\n",
    "train, valid = to_rhythm(train).cache(), to_rhythm(valid).cache()"
   ]
  },
  {
   "cell_type": "code",
   "execution_count": 3,
   "metadata": {},
   "outputs": [],
   "source": [
    "\"\"\"\n",
    "To use GRU and the smoothing loss mentioned in the original text, you should turn off heart rate data augmentation.\n",
    "i.e., set extend_rate=0 in dump_datatape.\n",
    "\"\"\"\n",
    "\n",
    "class RhythmNet(keras.Model):\n",
    "\n",
    "    def __init__(self, use_gru=True):\n",
    "        super().__init__()\n",
    "        self.ResNet = ResNet([2, 2, 2, 2])\n",
    "\n",
    "        # GRU layer\n",
    "        if use_gru:\n",
    "            self.ResNet.fc = keras.Sequential([layers.Reshape((1, -1)) ,layers.GRU(1, return_sequences=True), layers.Reshape((-1,))])\n",
    "\n",
    "    def call(self, x):\n",
    "        x = self.ResNet(x)\n",
    "        return tf.reshape(x, (-1,))\n",
    "    \n",
    "def rhythm_loss(label, pred, r=100):\n",
    "    return tf.abs(label-pred) + r*tf.reduce_mean(tf.abs(tf.reduce_mean(label)-pred))"
   ]
  },
  {
   "cell_type": "code",
   "execution_count": 4,
   "metadata": {},
   "outputs": [
    {
     "name": "stdout",
     "output_type": "stream",
     "text": [
      "Model: \"rhythm_net\"\n",
      "_________________________________________________________________\n",
      "Layer (type)                 Output Shape              Param #   \n",
      "=================================================================\n",
      "res_net (ResNet)             multiple                  11188865  \n",
      "=================================================================\n",
      "Total params: 11,188,865\n",
      "Trainable params: 11,181,057\n",
      "Non-trainable params: 7,808\n",
      "_________________________________________________________________\n"
     ]
    }
   ],
   "source": [
    "rhythmnet = RhythmNet(use_gru=False)\n",
    "rhythmnet.build(input_shape=(None, 300, 25, 3))\n",
    "rhythmnet.compile(optimizer='adam', loss='mae')\n",
    "rhythmnet.summary()"
   ]
  },
  {
   "cell_type": "code",
   "execution_count": 5,
   "metadata": {},
   "outputs": [],
   "source": [
    "rhythmnet.fit(train.shuffle(2000).batch(32), validation_data=valid.batch(32), epochs=50, callbacks=[keras.callbacks.ModelCheckpoint('../weights/RhythmNet_CCNU.h5', monitor='val_loss', verbose=1, save_best_only=True, mode='min', save_weights_only=True)])\n",
    "rhythmnet.load_weights('../weights/RhythmNet_CCNU.h5')"
   ]
  },
  {
   "cell_type": "code",
   "execution_count": 6,
   "metadata": {},
   "outputs": [],
   "source": [
    "def rhythmnet_e2e(x):\n",
    "    s = x.shape\n",
    "    x = x.reshape((s[0], s[1], s[2]*s[3], s[4]))\n",
    "    x = np.array([cv2.cvtColor(i.astype(np.float32), cv2.COLOR_RGB2YUV) for i in x])\n",
    "    return rhythmnet(x)\n",
    "    "
   ]
  },
  {
   "cell_type": "code",
   "execution_count": 16,
   "metadata": {},
   "outputs": [
    {
     "name": "stderr",
     "output_type": "stream",
     "text": [
      "100%|██████████| 179/179 [00:13<00:00, 12.87it/s]\n"
     ]
    },
    {
     "data": {
      "text/plain": [
       "{'Sliding window': {'MAE': 10.303, 'RMSE': 13.746, 'R': -0.11835},\n",
       " 'Whole video': {'MAE': 9.729, 'RMSE': 13.24, 'R': -0.1354}}"
      ]
     },
     "execution_count": 16,
     "metadata": {},
     "output_type": "execute_result"
    }
   ],
   "source": [
    "eval_on_dataset(test_set_CCNU, rhythmnet_e2e, 300, (5, 5), output='HR', step=3, batch=32, save='../results/RhythmNet_CCNU_CCNU.h5')\n",
    "get_metrics('../results/RhythmNet_CCNU_CCNU.h5')"
   ]
  },
  {
   "cell_type": "code",
   "execution_count": 15,
   "metadata": {},
   "outputs": [
    {
     "name": "stderr",
     "output_type": "stream",
     "text": [
      "100%|██████████| 54/54 [00:03<00:00, 17.62it/s]\n"
     ]
    },
    {
     "data": {
      "text/plain": [
       "{'Sliding window': {'MAE': 10.431, 'RMSE': 14.595, 'R': -0.12622},\n",
       " 'Whole video': {'MAE': 9.975, 'RMSE': 14.203, 'R': -0.12317}}"
      ]
     },
     "execution_count": 15,
     "metadata": {},
     "output_type": "execute_result"
    }
   ],
   "source": [
    "eval_on_dataset(test_set_CCNU_rPPG, rhythmnet_e2e, 300, (5, 5), output='HR', step=3, batch=32, save='../results/RhythmNet_CCNU_CCNU_rPPG.h5')\n",
    "get_metrics('../results/RhythmNet_CCNU_CCNU_rPPG.h5')"
   ]
  },
  {
   "cell_type": "code",
   "execution_count": 14,
   "metadata": {},
   "outputs": [
    {
     "name": "stderr",
     "output_type": "stream",
     "text": [
      "100%|██████████| 42/42 [00:02<00:00, 20.10it/s]\n"
     ]
    },
    {
     "data": {
      "text/plain": [
       "{'Sliding window': {'MAE': 24.416, 'RMSE': 29.298, 'R': -0.19648},\n",
       " 'Whole video': {'MAE': 24.086, 'RMSE': 29.147, 'R': -0.22832}}"
      ]
     },
     "execution_count": 14,
     "metadata": {},
     "output_type": "execute_result"
    }
   ],
   "source": [
    "eval_on_dataset(test_set_UBFC_rPPG2, rhythmnet_e2e, 300, (5, 5), output='HR', step=3, batch=32, save='../results/RhythmNet_CCNU_UBFC.h5')\n",
    "get_metrics('../results/RhythmNet_CCNU_UBFC.h5')"
   ]
  },
  {
   "cell_type": "code",
   "execution_count": 13,
   "metadata": {},
   "outputs": [
    {
     "name": "stderr",
     "output_type": "stream",
     "text": [
      "100%|██████████| 59/59 [00:02<00:00, 21.83it/s]\n"
     ]
    },
    {
     "data": {
      "text/plain": [
       "{'Sliding window': {'MAE': 24.682, 'RMSE': 27.567, 'R': 0.17528},\n",
       " 'Whole video': {'MAE': 24.734, 'RMSE': 27.612, 'R': 0.13707}}"
      ]
     },
     "execution_count": 13,
     "metadata": {},
     "output_type": "execute_result"
    }
   ],
   "source": [
    "eval_on_dataset(test_set_PURE, rhythmnet_e2e, 300, (5, 5), output='HR', step=3, batch=32, save='../results/RhythmNet_CCNU_PURE.h5')\n",
    "get_metrics('../results/RhythmNet_CCNU_PURE.h5')"
   ]
  }
 ],
 "metadata": {
  "kernelspec": {
   "display_name": "dl",
   "language": "python",
   "name": "python3"
  },
  "language_info": {
   "codemirror_mode": {
    "name": "ipython",
    "version": 3
   },
   "file_extension": ".py",
   "mimetype": "text/x-python",
   "name": "python",
   "nbconvert_exporter": "python",
   "pygments_lexer": "ipython3",
   "version": "3.9.16"
  },
  "orig_nbformat": 4
 },
 "nbformat": 4,
 "nbformat_minor": 2
}
