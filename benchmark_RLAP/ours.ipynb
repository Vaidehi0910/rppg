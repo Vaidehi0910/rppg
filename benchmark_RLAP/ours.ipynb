{
 "cells": [
  {
   "cell_type": "code",
   "execution_count": 36,
   "metadata": {},
   "outputs": [
    {
     "name": "stdout",
     "output_type": "stream",
     "text": [
      "The autoreload extension is already loaded. To reload it, use:\n",
      "  %reload_ext autoreload\n"
     ]
    }
   ],
   "source": [
    "%load_ext autoreload\n",
    "%autoreload 2\n",
    "import sys\n",
    "sys.path.append(\"..\")\n",
    "from utils import *\n",
    "from models import *"
   ]
  },
  {
   "cell_type": "code",
   "execution_count": 2,
   "metadata": {},
   "outputs": [],
   "source": [
    "train_tape = \"Z:/rppg/ccnu_datatape_450x8x8_train.h5\"\n",
    "valid_tape = \"Z:/rppg/ccnu_datatape_450x8x8_valid.h5\"\n",
    "\n",
    "train =  load_datatape(train_tape, use_normalized_bvp=True)\n",
    "valid = load_datatape(valid_tape, use_normalized_bvp=False)\n",
    "train, valid = to_tf(train).cache(), to_tf(valid).cache()\n",
    "#train, valid = to_tf(train).cache(f'{tmp}/ours'), to_tf(valid).cache(f'{tmp}/ours')\n",
    "#train, valid = to_tf(train), to_tf(valid)"
   ]
  },
  {
   "cell_type": "code",
   "execution_count": 2,
   "metadata": {},
   "outputs": [
    {
     "name": "stdout",
     "output_type": "stream",
     "text": [
      "WARNING:tensorflow:From x:\\Users\\wkg\\anaconda3\\envs\\dl\\lib\\site-packages\\tensorflow\\python\\profiler\\internal\\flops_registry.py:243: tensor_shape_from_node_def_name (from tensorflow.python.framework.graph_util_impl) is deprecated and will be removed in a future version.\n",
      "Instructions for updating:\n",
      "Use `tf.compat.v1.graph_util.tensor_shape_from_node_def_name`\n",
      "Flops per frame:260557\n",
      "Model: \"m_1\"\n",
      "_________________________________________________________________\n",
      "Layer (type)                 Output Shape              Param #   \n",
      "=================================================================\n",
      "sequential (Sequential)      (None, 450, 64)           12352     \n",
      "_________________________________________________________________\n",
      "spectral_transform (Spectral multiple                  82560     \n",
      "_________________________________________________________________\n",
      "conv1d_2 (Conv1D)            multiple                  41024     \n",
      "_________________________________________________________________\n",
      "sequential_2 (Sequential)    (None, 450, 64)           256       \n",
      "_________________________________________________________________\n",
      "spectral_transform_1 (Spectr multiple                  49792     \n",
      "_________________________________________________________________\n",
      "conv1d_4 (Conv1D)            multiple                  10272     \n",
      "_________________________________________________________________\n",
      "sequential_4 (Sequential)    (None, 450, 32)           128       \n",
      "_________________________________________________________________\n",
      "sequential_5 (Sequential)    (None, 450)               33        \n",
      "=================================================================\n",
      "Total params: 196,417\n",
      "Trainable params: 195,713\n",
      "Non-trainable params: 704\n",
      "_________________________________________________________________\n"
     ]
    }
   ],
   "source": [
    "m1 = M_1()\n",
    "m1.compile(optimizer='Nadam', loss='mae')\n",
    "m1.build(input_shape=(None, 450, 8, 8, 3))\n",
    "print(f'Flops per frame:{get_flops(m1, input_sig=[tf.TensorSpec([1, 450, 8, 8, 3])])/450:.0f}')\n",
    "m1.summary()"
   ]
  },
  {
   "cell_type": "code",
   "execution_count": 51,
   "metadata": {},
   "outputs": [
    {
     "name": "stdout",
     "output_type": "stream",
     "text": [
      "Epoch 1/10\n",
      "1410/1410 [==============================] - 24s 16ms/step - loss: 0.6872 - val_loss: 0.6440\n",
      "\n",
      "Epoch 00001: val_loss improved from inf to 0.64403, saving model to ../weights\\m1.h5\n",
      "Epoch 2/10\n",
      "1410/1410 [==============================] - 23s 16ms/step - loss: 0.5454 - val_loss: 0.6066\n",
      "\n",
      "Epoch 00002: val_loss improved from 0.64403 to 0.60655, saving model to ../weights\\m1.h5\n",
      "Epoch 3/10\n",
      "1410/1410 [==============================] - 23s 16ms/step - loss: 0.4962 - val_loss: 0.5684\n",
      "\n",
      "Epoch 00003: val_loss improved from 0.60655 to 0.56843, saving model to ../weights\\m1.h5\n",
      "Epoch 4/10\n",
      "1410/1410 [==============================] - 23s 16ms/step - loss: 0.4632 - val_loss: 0.5557\n",
      "\n",
      "Epoch 00004: val_loss improved from 0.56843 to 0.55574, saving model to ../weights\\m1.h5\n",
      "Epoch 5/10\n",
      "1410/1410 [==============================] - 23s 16ms/step - loss: 0.4466 - val_loss: 0.5736\n",
      "\n",
      "Epoch 00005: val_loss did not improve from 0.55574\n",
      "Epoch 6/10\n",
      "1410/1410 [==============================] - 23s 16ms/step - loss: 0.4368 - val_loss: 0.5611\n",
      "\n",
      "Epoch 00006: val_loss did not improve from 0.55574\n",
      "Epoch 7/10\n",
      "1410/1410 [==============================] - 23s 16ms/step - loss: 0.4295 - val_loss: 0.5490\n",
      "\n",
      "Epoch 00007: val_loss improved from 0.55574 to 0.54899, saving model to ../weights\\m1.h5\n",
      "Epoch 8/10\n",
      "1410/1410 [==============================] - 23s 16ms/step - loss: 0.4236 - val_loss: 0.5643\n",
      "\n",
      "Epoch 00008: val_loss did not improve from 0.54899\n",
      "Epoch 9/10\n",
      "1410/1410 [==============================] - 23s 16ms/step - loss: 0.4186 - val_loss: 0.5490\n",
      "\n",
      "Epoch 00009: val_loss did not improve from 0.54899\n",
      "Epoch 10/10\n",
      "1410/1410 [==============================] - 23s 16ms/step - loss: 0.4134 - val_loss: 0.5475\n",
      "\n",
      "Epoch 00010: val_loss improved from 0.54899 to 0.54747, saving model to ../weights\\m1.h5\n"
     ]
    }
   ],
   "source": [
    "m1.fit(train.shuffle(2000).batch(32), validation_data=valid.batch(32), epochs=10, callbacks=[keras.callbacks.ModelCheckpoint('../weights/m1.h5', monitor='val_loss', verbose=1, save_best_only=True, mode='min', save_weights_only=True)])\n",
    "m1.load_weights('../weights/m1.h5')"
   ]
  },
  {
   "cell_type": "code",
   "execution_count": 38,
   "metadata": {},
   "outputs": [],
   "source": [
    "m1.load_weights('../weights/m1.h5')"
   ]
  },
  {
   "cell_type": "code",
   "execution_count": 62,
   "metadata": {},
   "outputs": [
    {
     "name": "stderr",
     "output_type": "stream",
     "text": [
      "100%|██████████| 179/179 [00:05<00:00, 33.21it/s]\n"
     ]
    },
    {
     "data": {
      "text/plain": [
       "{'Sliding window': {'MAE': 1.032, 'RMSE': 3.784, 'R': 0.93091},\n",
       " 'Whole video': {'MAE': 0.516, 'RMSE': 1.22, 'R': 0.99178}}"
      ]
     },
     "execution_count": 62,
     "metadata": {},
     "output_type": "execute_result"
    }
   ],
   "source": [
    "#eval_on_dataset(test_set_CCNU, m1, 450, (8, 8), step=5, batch=32, save='../results/ours_CCNU_CCNU.h5')\n",
    "get_metrics('../results/ours_CCNU_CCNU.h5',)"
   ]
  },
  {
   "cell_type": "code",
   "execution_count": 5,
   "metadata": {},
   "outputs": [
    {
     "data": {
      "text/plain": [
       "{'Sliding window': {'MAE': 0.909, 'RMSE': 3.393, 'R': 0.93793},\n",
       " 'Whole video': {'MAE': 0.654, 'RMSE': 1.951, 'R': 0.97916}}"
      ]
     },
     "execution_count": 5,
     "metadata": {},
     "output_type": "execute_result"
    }
   ],
   "source": [
    "#eval_on_dataset(test_set_CCNU_rPPG, m1, 450, (8, 8), step=5, batch=32, save='../results/ours_CCNU_CCNU_rPPG.h5')\n",
    "get_metrics('../results/ours_CCNU_CCNU_rPPG.h5',)\n",
    "#get_metrics_HRV('../results/ours_CCNU_CCNU_rPPG.h5',)"
   ]
  },
  {
   "cell_type": "code",
   "execution_count": 8,
   "metadata": {},
   "outputs": [
    {
     "name": "stderr",
     "output_type": "stream",
     "text": [
      "100%|██████████| 59/59 [00:01<00:00, 40.56it/s]\n"
     ]
    },
    {
     "data": {
      "text/plain": [
       "{'Sliding window': {'MAE': 0.359, 'RMSE': 1.136, 'R': 0.99881},\n",
       " 'Whole video': {'MAE': 0.338, 'RMSE': 0.52, 'R': 0.99978}}"
      ]
     },
     "execution_count": 8,
     "metadata": {},
     "output_type": "execute_result"
    }
   ],
   "source": [
    "eval_on_dataset(test_set_PURE, m1, 450, (8, 8), step=5, batch=32, save='../results/ours_CCNU_PURE.h5')\n",
    "get_metrics('../results/ours_CCNU_PURE.h5',)\n",
    "#get_metrics_HRV('../results/ours_CCNU_PURE.h5',)"
   ]
  },
  {
   "cell_type": "code",
   "execution_count": 6,
   "metadata": {},
   "outputs": [
    {
     "name": "stderr",
     "output_type": "stream",
     "text": [
      "100%|██████████| 42/42 [00:00<00:00, 42.53it/s]\n"
     ]
    },
    {
     "data": {
      "text/plain": [
       "{'Sliding window': {'MAE': 1.296, 'RMSE': 3.567, 'R': 0.97857},\n",
       " 'Whole video': {'MAE': 0.921, 'RMSE': 1.439, 'R': 0.99679}}"
      ]
     },
     "execution_count": 6,
     "metadata": {},
     "output_type": "execute_result"
    }
   ],
   "source": [
    "eval_on_dataset(test_set_UBFC_rPPG2, m1, 450, (8, 8), step=5, batch=32, save='../results/ours_CCNU_UBFC.h5')\n",
    "get_metrics('../results/ours_CCNU_UBFC.h5',)\n",
    "#get_metrics_HRV('../results/ours_CCNU_UBFC.h5',)"
   ]
  },
  {
   "cell_type": "code",
   "execution_count": 34,
   "metadata": {},
   "outputs": [
    {
     "data": {
      "text/plain": [
       "{'Sliding window': {'MAE': 2.681, 'RMSE': 7.381, 'R': 0.69042},\n",
       " 'Whole video': {'MAE': 1.512, 'RMSE': 3.93, 'R': 0.91478}}"
      ]
     },
     "execution_count": 34,
     "metadata": {},
     "output_type": "execute_result"
    }
   ],
   "source": [
    "#eval_on_dataset(test_set_MMPD, m1, 450, (8, 8), step=10, batch=32, save='../results/ours_CCNU_MMPD.h5')\n",
    "get_metrics('../results/ours_CCNU_MMPD.h5', motion='Stationary', skin_color='3', light=['LED-high', 'LED-low', 'Incandescent',])"
   ]
  },
  {
   "cell_type": "code",
   "execution_count": 40,
   "metadata": {},
   "outputs": [
    {
     "name": "stderr",
     "output_type": "stream",
     "text": [
      "100%|██████████| 164/164 [00:06<00:00, 23.66it/s]\n"
     ]
    },
    {
     "data": {
      "text/plain": [
       "{'Sliding window': {'MAE': 17.117, 'RMSE': 26.319, 'R': -0.10291},\n",
       " 'Whole video': {'MAE': 16.051, 'RMSE': 25.736, 'R': -0.11651}}"
      ]
     },
     "execution_count": 40,
     "metadata": {},
     "output_type": "execute_result"
    }
   ],
   "source": [
    "eval_on_dataset(test_set_COHFACE, m1, 450, (8, 8), step=1, batch=32, save='../results/ours_CCNU_COHFACE.h5')\n",
    "get_metrics('../results/ours_CCNU_COHFACE.h5')"
   ]
  }
 ],
 "metadata": {
  "kernelspec": {
   "display_name": "Python 3 (ipykernel)",
   "language": "python",
   "name": "python3"
  },
  "language_info": {
   "codemirror_mode": {
    "name": "ipython",
    "version": 3
   },
   "file_extension": ".py",
   "mimetype": "text/x-python",
   "name": "python",
   "nbconvert_exporter": "python",
   "pygments_lexer": "ipython3",
   "version": "3.11.5"
  },
  "vscode": {
   "interpreter": {
    "hash": "ef3e367c2466be0f305882ce2bcd0e67eb2cbba315c01407a1a54a3d07e5496a"
   }
  }
 },
 "nbformat": 4,
 "nbformat_minor": 2
}
