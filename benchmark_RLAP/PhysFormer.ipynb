{
 "cells": [
  {
   "cell_type": "code",
   "execution_count": 1,
   "metadata": {},
   "outputs": [],
   "source": [
    "%load_ext autoreload\n",
    "%autoreload 2\n",
    "import sys\n",
    "sys.path.append(\"..\")\n",
    "from utils import *\n",
    "from models_torch import *\n",
    "import torch.optim as optim\n",
    "from random import shuffle"
   ]
  },
  {
   "cell_type": "code",
   "execution_count": 2,
   "metadata": {},
   "outputs": [],
   "source": [
    "train_tape = \"Z:/rppg/ccnu_datatape_160x128x128_train.h5\"\n",
    "valid_tape = \"Z:/rppg/ccnu_datatape_160x128x128_valid.h5\"\n",
    "\n",
    "train =  load_datatape(train_tape, use_normalized_bvp=True, buffer=128)\n",
    "valid = load_datatape(valid_tape, use_normalized_bvp=False, buffer=128)\n",
    "\n",
    "def RandomHorizontalFlip(data, label, p=.5):\n",
    "    if np.random.random()<p:\n",
    "        return data[..., ::-1 ,:], label\n",
    "    return data, label\n",
    "\n",
    "def data_loader(tape, batch_size=4, shuffle_size=2000):\n",
    "    shuffle_size = max(batch_size, shuffle_size)\n",
    "    buff = []\n",
    "    for i in tape:\n",
    "        i = [i.astype(np.float16) for i in i]\n",
    "        if not 40<get_hr(i[1])<180:\n",
    "            continue\n",
    "        buff.append(RandomHorizontalFlip(*i))\n",
    "        if len(buff)>=shuffle_size:\n",
    "            shuffle(buff)\n",
    "            batch = [buff.pop(0) for _ in range(batch_size)]\n",
    "            yield torch.tensor(np.array([i[0][..., [2, 1, 0]].transpose(3, 0, 1, 2) for i in batch])).float()*2-1, torch.tensor(np.array([i[1] for i in batch]))\n",
    "    while len(buff)>=batch_size:\n",
    "        shuffle(buff)\n",
    "        batch = [buff.pop(0) for _ in range(batch_size)]\n",
    "        yield torch.tensor(np.array([i[0][..., [2, 1, 0]].transpose(3, 0, 1, 2) for i in batch])).float()*2-1, torch.tensor(np.array([i[1] for i in batch]))"
   ]
  },
  {
   "cell_type": "code",
   "execution_count": 2,
   "metadata": {},
   "outputs": [],
   "source": [
    "gra_sharp = 2.\n",
    "model = ViT_ST_ST_Compact3_TDC_gra_sharp(image_size=(160,128,128), patches=(4,4,4), dim=96, ff_dim=144, num_heads=4, num_layers=12, dropout_rate=0.1, theta=0.7).cuda()\n",
    "lr=0.0001\n",
    "step_size = 50\n",
    "batch_size=4\n",
    "optimizer1 = optim.Adam(model.parameters(), lr=lr, weight_decay=0.00005)\n",
    "scheduler1 = optim.lr_scheduler.StepLR(optimizer1, step_size=step_size, gamma=0.5)\n",
    "\n",
    "criterion_Pearson = Neg_Pearson()\n",
    "valid_baches = 2000\n",
    "\n",
    "# a --> Pearson loss; b --> frequency loss\n",
    "a_start = 0.1\n",
    "b_start = 1\n",
    "exp_b = 5"
   ]
  },
  {
   "cell_type": "code",
   "execution_count": 9,
   "metadata": {},
   "outputs": [
    {
     "name": "stderr",
     "output_type": "stream",
     "text": [
      "Unsupported operator aten::add_ encountered 65 time(s)\n",
      "Unsupported operator aten::max_pool3d encountered 3 time(s)\n",
      "Unsupported operator aten::sum encountered 96 time(s)\n",
      "Unsupported operator aten::add encountered 48 time(s)\n",
      "Unsupported operator aten::mul encountered 24 time(s)\n",
      "Unsupported operator aten::sub encountered 24 time(s)\n",
      "Unsupported operator aten::div encountered 12 time(s)\n",
      "Unsupported operator aten::softmax encountered 12 time(s)\n",
      "Unsupported operator aten::elu encountered 26 time(s)\n",
      "Unsupported operator aten::upsample_nearest3d encountered 2 time(s)\n",
      "Unsupported operator aten::mean encountered 2 time(s)\n"
     ]
    },
    {
     "name": "stdout",
     "output_type": "stream",
     "text": [
      "Flops per frame:323798832\n"
     ]
    }
   ],
   "source": [
    "from fvcore.nn import FlopCountAnalysis\n",
    "flops = FlopCountAnalysis(model, (torch.rand(1, 3, 160, 128, 128).cuda() ,gra_sharp)).total()\n",
    "print(f'Flops per frame:{flops/160:.0f}')"
   ]
  },
  {
   "cell_type": "code",
   "execution_count": null,
   "metadata": {},
   "outputs": [],
   "source": [
    "best = np.inf\n",
    "for epoch in range(10):\n",
    "    loss_rPPG_avg = []\n",
    "    loss_peak_avg = []\n",
    "    loss_kl_avg_test = []\n",
    "    loss_hr_mae = []\n",
    "    model.train()\n",
    "    fps = 30\n",
    "    print(f'epoch:{epoch} train:')\n",
    "    for i, (data, label) in enumerate(data_loader(train, batch_size=batch_size)):\n",
    "        hr = torch.tensor([get_hr(i) for i in label]).float().cuda()\n",
    "        data, label = data.float().cuda(), label.float().cuda()\n",
    "        optimizer1.zero_grad()\n",
    "        bvp, s1, s2, s3 = model(data, gra_sharp)\n",
    "        bvp = (bvp-torch.mean(bvp, axis=-1).view(-1, 1))/torch.std(bvp, axis=-1).view(-1, 1)\n",
    "        loss_bvp = criterion_Pearson(bvp, label)\n",
    "        fre_loss = .0\n",
    "        kl = .0\n",
    "        train_mae = .0\n",
    "        for bb in range(data.shape[0]):\n",
    "            loss_distribution_kl, fre_loss_temp, train_mae_temp = cross_entropy_power_spectrum_DLDL_softmax2(bvp[bb], hr[bb], fps, std=1.0)\n",
    "            fre_loss = fre_loss+fre_loss_temp\n",
    "            kl = kl+loss_distribution_kl\n",
    "            train_mae = train_mae+train_mae_temp\n",
    "        fre_loss /= data.shape[0]\n",
    "        kl /= data.shape[0]\n",
    "        train_mae /= data.shape[0]\n",
    "        a = a_start\n",
    "        if epoch>10:\n",
    "            b = 5.\n",
    "        else:\n",
    "            b = b_start*exp_b**(epoch/10)\n",
    "        loss = a*loss_bvp + b*(fre_loss+kl)\n",
    "        loss.backward()\n",
    "        optimizer1.step()\n",
    "        n = data.size(0)\n",
    "        loss_rPPG_avg.append(float(loss_bvp.data))\n",
    "        loss_peak_avg.append(float(fre_loss.data))\n",
    "        loss_kl_avg_test.append(float(kl.data))\n",
    "        loss_hr_mae.append(float(train_mae))\n",
    "        print('epoch:%d, batch:%d, total=%d, lr=%f, sharp=%.3f, a=%.3f, NegPearson= %.4f, b=%.3f, kl= %.4f, fre_CEloss= %.4f, hr_mae= %.4f' % (epoch, i + 1, len(train)//batch_size, lr, gra_sharp, a, np.mean(loss_rPPG_avg[-2000:]), b, np.mean(loss_kl_avg_test[-2000:]), np.mean(loss_peak_avg[-2000:]), np.mean(loss_hr_mae[-2000:])), end='\\r')\n",
    "        if (i+1)%valid_baches==0:\n",
    "            optimizer1.zero_grad()\n",
    "            model.eval()\n",
    "            with torch.no_grad():\n",
    "                hrs = []\n",
    "                for j, (data, label) in enumerate(data_loader(valid, batch_size=4)):\n",
    "                    data, label = data.cuda().float(), label.cuda().float()\n",
    "                    bvp, s1, s2, s3 = model(data, gra_sharp)\n",
    "                    bvp = (bvp-torch.mean(bvp, axis=-1).view(-1, 1))/torch.std(bvp).view(-1, 1)\n",
    "                    for _1, _2 in zip(bvp, label):\n",
    "                        hrs.append((get_hr(_1.cpu().detach().numpy()), get_hr(_2.cpu().detach().numpy())))\n",
    "                RMSE = np.mean([(i-j)**2 for i, j in hrs])**0.5\n",
    "                print(f'Test RMSE:{RMSE:.3f}, batch:{i+1}')\n",
    "                if RMSE<best:\n",
    "                    best = RMSE\n",
    "                    torch.save(model.state_dict(), '../weights/Physformer_CCNU.pkl')\n",
    "                    print('Best model saved')\n",
    "                scheduler1.step()\n",
    "                if (epoch + 1) % step_size == 0:\n",
    "                    lr *= 0.5"
   ]
  },
  {
   "cell_type": "code",
   "execution_count": 3,
   "metadata": {},
   "outputs": [],
   "source": [
    "model.load_state_dict(torch.load('../weights/Physformer_CCNU.pkl'))\n",
    "model.train()\n",
    "def physformer(x, model=model):\n",
    "    with torch.no_grad():\n",
    "        bvp = model(torch.tensor(x[..., [2, 1, 0]].transpose(0, 4, 1, 2, 3)).cuda().float()*2-1, gra_sharp)[0].cpu().detach().numpy()\n",
    "        return bvp - bvp.mean(axis=-1).reshape(-1, 1)"
   ]
  },
  {
   "cell_type": "code",
   "execution_count": 14,
   "metadata": {},
   "outputs": [
    {
     "name": "stderr",
     "output_type": "stream",
     "text": [
      "100%|██████████| 179/179 [36:35<00:00, 12.26s/it] \n"
     ]
    },
    {
     "data": {
      "text/plain": [
       "{'Sliding window': {'MAE': 1.562, 'RMSE': 6.282, 'R': 0.80256},\n",
       " 'Whole video': {'MAE': 0.674, 'RMSE': 2.859, 'R': 0.95311}}"
      ]
     },
     "execution_count": 14,
     "metadata": {},
     "output_type": "execute_result"
    }
   ],
   "source": [
    "eval_on_dataset(test_set_CCNU, physformer, 160, (128, 128), step=2, batch=4, save='../results/PhysFormer_CCNU_CCNU.h5', sample=cv2.INTER_CUBIC)\n",
    "get_metrics('../results/PhysFormer_CCNU_CCNU.h5')"
   ]
  },
  {
   "cell_type": "code",
   "execution_count": 5,
   "metadata": {},
   "outputs": [
    {
     "data": {
      "text/plain": [
       "{'SDNN': {'MAE': 28.836, 'RMSE': 34.446, 'R': 0.45018}}"
      ]
     },
     "execution_count": 5,
     "metadata": {},
     "output_type": "execute_result"
    }
   ],
   "source": [
    "#eval_on_dataset(test_set_CCNU_rPPG, physformer, 160, (128, 128), step=2, batch=4, save='../results/PhysFormer_CCNU_CCNU_rPPG.h5', sample=cv2.INTER_CUBIC)\n",
    "#get_metrics('../results/PhysFormer_CCNU_CCNU_rPPG.h5')\n",
    "get_metrics_HRV('../results/PhysFormer_CCNU_CCNU_rPPG.h5')"
   ]
  },
  {
   "cell_type": "code",
   "execution_count": 4,
   "metadata": {},
   "outputs": [
    {
     "name": "stderr",
     "output_type": "stream",
     "text": [
      "x:\\Users\\wkg\\anaconda3\\envs\\dl\\lib\\site-packages\\numpy\\core\\fromnumeric.py:3432: RuntimeWarning: Mean of empty slice.\n",
      "  return _methods._mean(a, axis=axis, dtype=dtype,\n",
      "x:\\Users\\wkg\\anaconda3\\envs\\dl\\lib\\site-packages\\numpy\\core\\_methods.py:265: RuntimeWarning: Degrees of freedom <= 0 for slice\n",
      "  ret = _var(a, axis=axis, dtype=dtype, out=out, ddof=ddof,\n",
      "x:\\Users\\wkg\\anaconda3\\envs\\dl\\lib\\site-packages\\numpy\\ma\\core.py:5288: RuntimeWarning: Mean of empty slice.\n",
      "  result = super().mean(axis=axis, dtype=dtype, **kwargs)[()]\n",
      "x:\\Users\\wkg\\anaconda3\\envs\\dl\\lib\\site-packages\\numpy\\core\\fromnumeric.py:3715: RuntimeWarning: Degrees of freedom <= 0 for slice\n",
      "  return _methods._var(a, axis=axis, dtype=dtype, out=out, ddof=ddof,\n"
     ]
    },
    {
     "data": {
      "text/plain": [
       "{'SDNN': {'MAE': 21.613, 'RMSE': 32.029, 'R': 0.57577}}"
      ]
     },
     "execution_count": 4,
     "metadata": {},
     "output_type": "execute_result"
    }
   ],
   "source": [
    "#eval_on_dataset(test_set_PURE, physformer, 160, (128, 128), step=2, batch=4, save='../results/PhysFormer_CCNU_PURE.h5', sample=cv2.INTER_CUBIC)\n",
    "#get_metrics('../results/PhysFormer_CCNU_PURE.h5')\n",
    "get_metrics_HRV('../results/PhysFormer_CCNU_PURE.h5')"
   ]
  },
  {
   "cell_type": "code",
   "execution_count": 3,
   "metadata": {},
   "outputs": [
    {
     "name": "stderr",
     "output_type": "stream",
     "text": [
      "x:\\Users\\wkg\\anaconda3\\envs\\dl\\lib\\site-packages\\scipy\\interpolate\\_fitpack2.py:298: UserWarning: \n",
      "The maximal number of iterations maxit (set to 20 by the program)\n",
      "allowed for finding a smoothing spline with fp=s has been reached: s\n",
      "too small.\n",
      "There is an approximation returned but the corresponding weighted sum\n",
      "of squared residuals does not satisfy the condition abs(fp-s)/s < tol.\n",
      "  warnings.warn(message)\n"
     ]
    },
    {
     "data": {
      "text/plain": [
       "{'SDNN': {'MAE': 8.365, 'RMSE': 11.149, 'R': 0.9209}}"
      ]
     },
     "execution_count": 3,
     "metadata": {},
     "output_type": "execute_result"
    }
   ],
   "source": [
    "#eval_on_dataset(test_set_UBFC_rPPG2, physformer, 160, (128, 128), step=2, batch=4, save='../results/PhysFormer_CCNU_UBFC.h5', sample=cv2.INTER_CUBIC)\n",
    "#get_metrics('../results/PhysFormer_CCNU_UBFC.h5')\n",
    "get_metrics_HRV('../results/PhysFormer_CCNU_UBFC.h5')"
   ]
  },
  {
   "cell_type": "code",
   "execution_count": 9,
   "metadata": {},
   "outputs": [
    {
     "data": {
      "text/plain": [
       "{'Sliding window': {'MAE': 3.132, 'RMSE': 7.315, 'R': 0.68684},\n",
       " 'Whole video': {'MAE': 1.696, 'RMSE': 4.135, 'R': 0.89027}}"
      ]
     },
     "execution_count": 9,
     "metadata": {},
     "output_type": "execute_result"
    }
   ],
   "source": [
    "#eval_on_dataset(test_set_MMPD, physformer, 160, (128, 128), step=4, batch=4, save='../results/PhysFormer_CCNU_MMPD.h5', sample=cv2.INTER_CUBIC)\n",
    "get_metrics('../results/PhysFormer_CCNU_MMPD.h5', motion='Stationary', skin_color='3', light=['LED-high', 'LED-low', 'Incandescent'])"
   ]
  },
  {
   "cell_type": "code",
   "execution_count": 4,
   "metadata": {},
   "outputs": [
    {
     "name": "stderr",
     "output_type": "stream",
     "text": [
      "100%|██████████| 164/164 [07:15<00:00,  2.66s/it]\n"
     ]
    },
    {
     "data": {
      "text/plain": [
       "{'Sliding window': {'MAE': 20.216, 'RMSE': 26.074, 'R': -0.29122},\n",
       " 'Whole video': {'MAE': 19.986, 'RMSE': 26.077, 'R': -0.37381}}"
      ]
     },
     "execution_count": 4,
     "metadata": {},
     "output_type": "execute_result"
    }
   ],
   "source": [
    "eval_on_dataset(test_set_COHFACE, physformer, 160, (128, 128), step=4, batch=4, save='../results/PhysFormer_CCNU_COHFACE.h5', sample=cv2.INTER_CUBIC)\n",
    "get_metrics('../results/PhysFormer_CCNU_COHFACE.h5')"
   ]
  }
 ],
 "metadata": {
  "kernelspec": {
   "display_name": "Python 3 (ipykernel)",
   "language": "python",
   "name": "python3"
  },
  "language_info": {
   "codemirror_mode": {
    "name": "ipython",
    "version": 3
   },
   "file_extension": ".py",
   "mimetype": "text/x-python",
   "name": "python",
   "nbconvert_exporter": "python",
   "pygments_lexer": "ipython3",
   "version": "3.11.5"
  }
 },
 "nbformat": 4,
 "nbformat_minor": 2
}
