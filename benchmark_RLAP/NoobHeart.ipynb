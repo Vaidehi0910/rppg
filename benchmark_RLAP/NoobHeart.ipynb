{
 "cells": [
  {
   "cell_type": "code",
   "execution_count": 33,
   "metadata": {},
   "outputs": [
    {
     "name": "stdout",
     "output_type": "stream",
     "text": [
      "The autoreload extension is already loaded. To reload it, use:\n",
      "  %reload_ext autoreload\n"
     ]
    }
   ],
   "source": [
    "%load_ext autoreload\n",
    "%autoreload 2\n",
    "import sys\n",
    "sys.path.append(\"..\")\n",
    "from utils import *\n",
    "from models import *"
   ]
  },
  {
   "cell_type": "code",
   "execution_count": 9,
   "metadata": {},
   "outputs": [
    {
     "name": "stdout",
     "output_type": "stream",
     "text": [
      "5\n",
      "Keys: <KeysViewHDF5 ['bvp', 'bvp_normalized', 'index', 'rr', 'vid']>\n",
      "index\n",
      "<class 'h5py._hl.dataset.Dataset'>\n"
     ]
    }
   ],
   "source": [
    "import h5py\n",
    "filename = \"C:/rppg/cohface_datatape_gray_32x8x8_train.h5\"\n",
    "\n",
    "with h5py.File(filename, \"r\") as f:\n",
    "    print(len(f))\n",
    "    # Print all root level object names (aka keys) \n",
    "    # these can be group or dataset names \n",
    "    print(\"Keys: %s\" % f.keys())\n",
    "    # get first object name/key; may or may NOT be a group\n",
    "    a_group_key = list(f.keys())[2]\n",
    "    print(a_group_key)\n",
    "    # get the object type for a_group_key: usually group or dataset\n",
    "    print(type(f[a_group_key])) \n",
    "\n",
    "    # If a_group_key is a group name, \n",
    "    # this gets the object names in the group and returns as a list\n",
    "    data = list(f[a_group_key])\n",
    "\n",
    "    # If a_group_key is a dataset name, \n",
    "    # this gets the dataset values and returns as a list\n",
    "    data = list(f[a_group_key])\n",
    "    # preferred methods to get dataset values:\n",
    "    ds_obj = f[a_group_key]      # returns as a h5py dataset object\n",
    "    ds_arr = f[a_group_key][()]  # returns as a numpy array"
   ]
  },
  {
   "cell_type": "code",
   "execution_count": 4,
   "metadata": {},
   "outputs": [
    {
     "data": {
      "text/plain": [
       "(2709,)"
      ]
     },
     "execution_count": 4,
     "metadata": {},
     "output_type": "execute_result"
    }
   ],
   "source": [
    "ds_arr.shape"
   ]
  },
  {
   "cell_type": "code",
   "execution_count": 36,
   "metadata": {},
   "outputs": [],
   "source": [
    "train_tape = \"C:/rppg/cohface_datatape_gray2_32x8x8_train.h5\"\n",
    "valid_tape = \"C:/rppg/cohface_datatape_gray2_32x8x8_valid.h5\"\n",
    "\n",
    "train =  load_datatape(train_tape, use_normalized_bvp=True)\n",
    "valid = load_datatape(valid_tape, use_normalized_bvp=False)\n",
    "train, valid = to_tf(train).cache(), to_tf(valid).cache()"
   ]
  },
  {
   "cell_type": "code",
   "execution_count": 28,
   "metadata": {},
   "outputs": [
    {
     "name": "stdout",
     "output_type": "stream",
     "text": [
      "Flops per frame:6062\n",
      "Model: \"NoobHeart\"\n",
      "_________________________________________________________________\n",
      " Layer (type)                Output Shape              Param #   \n",
      "=================================================================\n",
      " layer_normalization_22 (La  (None, 32, 8, 8, 3)       64        \n",
      " yerNormalization)                                               \n",
      "                                                                 \n",
      " conv3d_15 (Conv3D)          (None, 32, 4, 4, 4)       100       \n",
      "                                                                 \n",
      " layer_normalization_23 (La  (None, 32, 4, 4, 4)       64        \n",
      " yerNormalization)                                               \n",
      "                                                                 \n",
      " conv3d_16 (Conv3D)          (None, 32, 2, 2, 2)       66        \n",
      "                                                                 \n",
      " layer_normalization_24 (La  (None, 32, 2, 2, 2)       64        \n",
      " yerNormalization)                                               \n",
      "                                                                 \n",
      " average_pooling3d_5 (Avera  (None, 32, 1, 1, 2)       0         \n",
      " gePooling3D)                                                    \n",
      "                                                                 \n",
      " conv3d_17 (Conv3D)          (None, 32, 1, 1, 1)       3         \n",
      "                                                                 \n",
      " flatten_7 (Flatten)         (None, 32)                0         \n",
      "                                                                 \n",
      "=================================================================\n",
      "Total params: 361 (1.41 KB)\n",
      "Trainable params: 361 (1.41 KB)\n",
      "Non-trainable params: 0 (0.00 Byte)\n",
      "_________________________________________________________________\n"
     ]
    }
   ],
   "source": [
    "# for RGB\n",
    "model = keras.Sequential([\n",
    "    layers.Input(shape=(32, 8, 8, 3)),\n",
    "    layers.LayerNormalization(axis=(1,)),\n",
    "    layers.Conv3D(4, (2, 2, 2), (1, 2, 2), padding='same', activation='tanh'),\n",
    "    layers.LayerNormalization(axis=(1,)),\n",
    "    layers.Conv3D(2, (2, 2, 2), (1, 2, 2), padding='same', activation='tanh'),\n",
    "    layers.LayerNormalization(axis=(1,)),\n",
    "    layers.AvgPool3D((1, 2, 2)),\n",
    "    layers.Conv3D(1, 1, 1),\n",
    "    layers.Flatten(),\n",
    "], name='NoobHeart')\n",
    "model.compile(optimizer='adam', loss='mae')\n",
    "print(f'Flops per frame:{get_flops(model, input_sig=[tf.TensorSpec([1, 32, 8, 8, 3])])/32:.0f}')\n",
    "model.summary()"
   ]
  },
  {
   "cell_type": "code",
   "execution_count": 35,
   "metadata": {},
   "outputs": [
    {
     "name": "stdout",
     "output_type": "stream",
     "text": [
      "Epoch 1/10\n",
      "     23/Unknown - 0s 17ms/step - loss: 0.8654\n",
      "Epoch 1: val_loss improved from inf to 0.84314, saving model to ../weights\\NoobHeart_Cohface.h5\n",
      "23/23 [==============================] - 1s 32ms/step - loss: 0.8654 - val_loss: 0.8431\n",
      "Epoch 2/10\n",
      "21/23 [==========================>...] - ETA: 0s - loss: 0.8355\n",
      "Epoch 2: val_loss improved from 0.84314 to 0.83223, saving model to ../weights\\NoobHeart_Cohface.h5\n",
      "23/23 [==============================] - 1s 29ms/step - loss: 0.8346 - val_loss: 0.8322\n",
      "Epoch 3/10\n",
      "22/23 [===========================>..] - ETA: 0s - loss: 0.8269\n",
      "Epoch 3: val_loss improved from 0.83223 to 0.82650, saving model to ../weights\\NoobHeart_Cohface.h5\n",
      "23/23 [==============================] - 1s 30ms/step - loss: 0.8271 - val_loss: 0.8265\n",
      "Epoch 4/10\n",
      "20/23 [=========================>....] - ETA: 0s - loss: 0.8214\n",
      "Epoch 4: val_loss improved from 0.82650 to 0.82340, saving model to ../weights\\NoobHeart_Cohface.h5\n",
      "23/23 [==============================] - 1s 31ms/step - loss: 0.8227 - val_loss: 0.8234\n",
      "Epoch 5/10\n",
      "20/23 [=========================>....] - ETA: 0s - loss: 0.8194\n",
      "Epoch 5: val_loss improved from 0.82340 to 0.82096, saving model to ../weights\\NoobHeart_Cohface.h5\n",
      "23/23 [==============================] - 1s 30ms/step - loss: 0.8193 - val_loss: 0.8210\n",
      "Epoch 6/10\n",
      "22/23 [===========================>..] - ETA: 0s - loss: 0.8170\n",
      "Epoch 6: val_loss improved from 0.82096 to 0.81937, saving model to ../weights\\NoobHeart_Cohface.h5\n",
      "23/23 [==============================] - 1s 31ms/step - loss: 0.8172 - val_loss: 0.8194\n",
      "Epoch 7/10\n",
      "23/23 [==============================] - ETA: 0s - loss: 0.8151\n",
      "Epoch 7: val_loss improved from 0.81937 to 0.81835, saving model to ../weights\\NoobHeart_Cohface.h5\n",
      "23/23 [==============================] - 1s 31ms/step - loss: 0.8151 - val_loss: 0.8183\n",
      "Epoch 8/10\n",
      "20/23 [=========================>....] - ETA: 0s - loss: 0.8126\n",
      "Epoch 8: val_loss improved from 0.81835 to 0.81739, saving model to ../weights\\NoobHeart_Cohface.h5\n",
      "23/23 [==============================] - 1s 30ms/step - loss: 0.8139 - val_loss: 0.8174\n",
      "Epoch 9/10\n",
      "21/23 [==========================>...] - ETA: 0s - loss: 0.8118\n",
      "Epoch 9: val_loss improved from 0.81739 to 0.81569, saving model to ../weights\\NoobHeart_Cohface.h5\n",
      "23/23 [==============================] - 1s 29ms/step - loss: 0.8120 - val_loss: 0.8157\n",
      "Epoch 10/10\n",
      "21/23 [==========================>...] - ETA: 0s - loss: 0.8096\n",
      "Epoch 10: val_loss improved from 0.81569 to 0.81497, saving model to ../weights\\NoobHeart_Cohface.h5\n",
      "23/23 [==============================] - 1s 28ms/step - loss: 0.8114 - val_loss: 0.8150\n"
     ]
    }
   ],
   "source": [
    "model.fit(train.shuffle(2000).batch(128), validation_data=valid.batch(32), epochs=10, callbacks=[keras.callbacks.ModelCheckpoint('../weights/NoobHeart_Cohface.h5', monitor='val_loss', verbose=1, save_best_only=True, mode='min', save_weights_only=True)])\n",
    "model.load_weights('../weights/NoobHeart_Cohface.h5')"
   ]
  },
  {
   "cell_type": "code",
   "execution_count": 38,
   "metadata": {},
   "outputs": [
    {
     "name": "stdout",
     "output_type": "stream",
     "text": [
      "Flops per frame:1945\n",
      "Model: \"NoobHeart\"\n",
      "_________________________________________________________________\n",
      " Layer (type)                Output Shape              Param #   \n",
      "=================================================================\n",
      " layer_normalization_25 (La  (None, 32, 8, 8)          64        \n",
      " yerNormalization)                                               \n",
      "                                                                 \n",
      " conv2d_7 (Conv2D)           (None, 32, 4, 4)          132       \n",
      "                                                                 \n",
      " layer_normalization_26 (La  (None, 32, 4, 4)          64        \n",
      " yerNormalization)                                               \n",
      "                                                                 \n",
      " conv2d_8 (Conv2D)           (None, 32, 2, 2)          34        \n",
      "                                                                 \n",
      " layer_normalization_27 (La  (None, 32, 2, 2)          64        \n",
      " yerNormalization)                                               \n",
      "                                                                 \n",
      " average_pooling2d_2 (Avera  (None, 32, 1, 2)          0         \n",
      " gePooling2D)                                                    \n",
      "                                                                 \n",
      " conv2d_9 (Conv2D)           (None, 32, 1, 1)          3         \n",
      "                                                                 \n",
      " flatten_8 (Flatten)         (None, 32)                0         \n",
      "                                                                 \n",
      "=================================================================\n",
      "Total params: 361 (1.41 KB)\n",
      "Trainable params: 361 (1.41 KB)\n",
      "Non-trainable params: 0 (0.00 Byte)\n",
      "_________________________________________________________________\n"
     ]
    }
   ],
   "source": [
    "# Gray Scale\n",
    "model = keras.Sequential([\n",
    "    layers.Input(shape=(32, 8, 8)),\n",
    "    layers.LayerNormalization(axis=(1,)),\n",
    "    layers.Conv2D(4, (2, 2), (1, 2), padding='same', activation='tanh'),\n",
    "    layers.LayerNormalization(axis=(1,)),\n",
    "    layers.Conv2D(2, (2, 2), (1, 2), padding='same', activation='tanh'),\n",
    "    layers.LayerNormalization(axis=(1,)),\n",
    "    layers.AvgPool2D((1, 2)),\n",
    "    layers.Conv2D(1, 1),\n",
    "    layers.Flatten(),\n",
    "], name='NoobHeart')\n",
    "model.compile(optimizer='adam', loss='mae')\n",
    "print(f'Flops per frame:{get_flops(model, input_sig=[tf.TensorSpec([1, 32, 8, 8])])/32:.0f}')\n",
    "model.summary()"
   ]
  },
  {
   "cell_type": "code",
   "execution_count": 39,
   "metadata": {},
   "outputs": [
    {
     "name": "stdout",
     "output_type": "stream",
     "text": [
      "Epoch 1/10\n",
      "     21/Unknown - 2s 11ms/step - loss: 0.8865\n",
      "Epoch 1: val_loss improved from inf to 0.86856, saving model to ../weights\\NoobHeart_Cohface.h5\n",
      "23/23 [==============================] - 2s 43ms/step - loss: 0.8855 - val_loss: 0.8686\n",
      "Epoch 2/10\n",
      "18/23 [======================>.......] - ETA: 0s - loss: 0.8730\n",
      "Epoch 2: val_loss improved from 0.86856 to 0.85692, saving model to ../weights\\NoobHeart_Cohface.h5\n",
      "23/23 [==============================] - 0s 13ms/step - loss: 0.8700 - val_loss: 0.8569\n",
      "Epoch 3/10\n",
      "20/23 [=========================>....] - ETA: 0s - loss: 0.8582\n",
      "Epoch 3: val_loss improved from 0.85692 to 0.84910, saving model to ../weights\\NoobHeart_Cohface.h5\n",
      "23/23 [==============================] - 0s 13ms/step - loss: 0.8583 - val_loss: 0.8491\n",
      "Epoch 4/10\n",
      "16/23 [===================>..........] - ETA: 0s - loss: 0.8508\n",
      "Epoch 4: val_loss improved from 0.84910 to 0.84369, saving model to ../weights\\NoobHeart_Cohface.h5\n",
      "23/23 [==============================] - 0s 14ms/step - loss: 0.8499 - val_loss: 0.8437\n",
      "Epoch 5/10\n",
      "17/23 [=====================>........] - ETA: 0s - loss: 0.8445\n",
      "Epoch 5: val_loss improved from 0.84369 to 0.83984, saving model to ../weights\\NoobHeart_Cohface.h5\n",
      "23/23 [==============================] - 0s 14ms/step - loss: 0.8439 - val_loss: 0.8398\n",
      "Epoch 6/10\n",
      "22/23 [===========================>..] - ETA: 0s - loss: 0.8391\n",
      "Epoch 6: val_loss improved from 0.83984 to 0.83673, saving model to ../weights\\NoobHeart_Cohface.h5\n",
      "23/23 [==============================] - 0s 14ms/step - loss: 0.8392 - val_loss: 0.8367\n",
      "Epoch 7/10\n",
      "19/23 [=======================>......] - ETA: 0s - loss: 0.8364\n",
      "Epoch 7: val_loss improved from 0.83673 to 0.83429, saving model to ../weights\\NoobHeart_Cohface.h5\n",
      "23/23 [==============================] - 0s 13ms/step - loss: 0.8357 - val_loss: 0.8343\n",
      "Epoch 8/10\n",
      "15/23 [==================>...........] - ETA: 0s - loss: 0.8337\n",
      "Epoch 8: val_loss improved from 0.83429 to 0.83220, saving model to ../weights\\NoobHeart_Cohface.h5\n",
      "23/23 [==============================] - 0s 14ms/step - loss: 0.8326 - val_loss: 0.8322\n",
      "Epoch 9/10\n",
      "15/23 [==================>...........] - ETA: 0s - loss: 0.8297\n",
      "Epoch 9: val_loss improved from 0.83220 to 0.83029, saving model to ../weights\\NoobHeart_Cohface.h5\n",
      "23/23 [==============================] - 0s 14ms/step - loss: 0.8301 - val_loss: 0.8303\n",
      "Epoch 10/10\n",
      "19/23 [=======================>......] - ETA: 0s - loss: 0.8281\n",
      "Epoch 10: val_loss improved from 0.83029 to 0.82879, saving model to ../weights\\NoobHeart_Cohface.h5\n",
      "23/23 [==============================] - 0s 13ms/step - loss: 0.8280 - val_loss: 0.8288\n"
     ]
    }
   ],
   "source": [
    "model.fit(train.shuffle(2000).batch(128), validation_data=valid.batch(32), epochs=10, callbacks=[keras.callbacks.ModelCheckpoint('../weights/NoobHeart_Cohface.h5', monitor='val_loss', verbose=1, save_best_only=True, mode='min', save_weights_only=True)])\n",
    "model.load_weights('../weights/NoobHeart_Cohface.h5')"
   ]
  },
  {
   "cell_type": "code",
   "execution_count": 30,
   "metadata": {},
   "outputs": [],
   "source": [
    "model.load_weights('../weights/NoobHeart.h5')"
   ]
  },
  {
   "cell_type": "code",
   "execution_count": 40,
   "metadata": {},
   "outputs": [
    {
     "name": "stderr",
     "output_type": "stream",
     "text": [
      "100%|████████████████████████████████████████████████████████████████████████████████| 164/164 [00:04<00:00, 38.68it/s]\n"
     ]
    },
    {
     "data": {
      "text/plain": [
       "{'Sliding window': {'MAE': 9.705, 'RMSE': 19.39, 'R': 0.1395},\n",
       " 'Whole video': {'MAE': 7.935, 'RMSE': 17.808, 'R': 0.197}}"
      ]
     },
     "execution_count": 40,
     "metadata": {},
     "output_type": "execute_result"
    }
   ],
   "source": [
    "# Gray Scale\n",
    "eval_on_dataset(test_set_COHFACE, model, 32, (8, 8), step=1, batch=32, save='../results/NoobHeart_Cohface_gray.h5')\n",
    "get_metrics('../results/NoobHeart_Cohface_gray.h5',)\n",
    "#get_metrics_HRV('../results/NoobHeart_CCNU_CCNU.h5',)"
   ]
  },
  {
   "cell_type": "code",
   "execution_count": 34,
   "metadata": {},
   "outputs": [
    {
     "name": "stderr",
     "output_type": "stream",
     "text": [
      "  0%|                                                                                          | 0/164 [00:00<?, ?it/s]\n"
     ]
    },
    {
     "ename": "ValueError",
     "evalue": "Exception encountered when calling layer 'NoobHeart' (type Sequential).\n\nInput 0 of layer \"conv3d_15\" is incompatible with the layer: expected min_ndim=5, found ndim=4. Full shape received: (32, 32, 8, 8)\n\nCall arguments received by layer 'NoobHeart' (type Sequential):\n  • inputs=tf.Tensor(shape=(32, 32, 8, 8), dtype=float32)\n  • training=None\n  • mask=None",
     "output_type": "error",
     "traceback": [
      "\u001b[1;31m---------------------------------------------------------------------------\u001b[0m",
      "\u001b[1;31mValueError\u001b[0m                                Traceback (most recent call last)",
      "Cell \u001b[1;32mIn[34], line 2\u001b[0m\n\u001b[0;32m      1\u001b[0m \u001b[38;5;66;03m# Normal Scale\u001b[39;00m\n\u001b[1;32m----> 2\u001b[0m eval_on_dataset(test_set_COHFACE, model, \u001b[38;5;241m32\u001b[39m, (\u001b[38;5;241m8\u001b[39m, \u001b[38;5;241m8\u001b[39m), step\u001b[38;5;241m=\u001b[39m\u001b[38;5;241m1\u001b[39m, batch\u001b[38;5;241m=\u001b[39m\u001b[38;5;241m32\u001b[39m, save\u001b[38;5;241m=\u001b[39m\u001b[38;5;124m'\u001b[39m\u001b[38;5;124m../results/NoobHeart_Cohface.h5\u001b[39m\u001b[38;5;124m'\u001b[39m)\n\u001b[0;32m      3\u001b[0m get_metrics(\u001b[38;5;124m'\u001b[39m\u001b[38;5;124m../results/NoobHeart_Cohface.h5\u001b[39m\u001b[38;5;124m'\u001b[39m,)\n",
      "File \u001b[1;32m~\\Downloads\\PhysBench-main\\PhysBench-main\\benchmark_RLAP\\..\\utils.py:699\u001b[0m, in \u001b[0;36meval_on_dataset\u001b[1;34m(dataset, model, input_frames, input_resolution, output, fps, step, save, batch, cumsum, sample, ipt_dtype, selector, **kw)\u001b[0m\n\u001b[0;32m    697\u001b[0m \u001b[38;5;28;01mfor\u001b[39;00m idx \u001b[38;5;129;01min\u001b[39;00m np\u001b[38;5;241m.\u001b[39marange(\u001b[38;5;241m0\u001b[39m, \u001b[38;5;28mlen\u001b[39m(ipt), batch):\n\u001b[0;32m    698\u001b[0m     o \u001b[38;5;241m=\u001b[39m model(np\u001b[38;5;241m.\u001b[39mstack([i[\u001b[38;5;241m1\u001b[39m] \u001b[38;5;28;01mfor\u001b[39;00m i \u001b[38;5;129;01min\u001b[39;00m ipt[idx:idx\u001b[38;5;241m+\u001b[39mbatch]])\u001b[38;5;241m.\u001b[39mastype(ipt_dtype))\n\u001b[1;32m--> 699\u001b[0m     n \u001b[38;5;241m=\u001b[39m \u001b[38;5;241m0\u001b[39m\n\u001b[0;32m    700\u001b[0m     \u001b[38;5;28;01mfor\u001b[39;00m (i0, i1), vid \u001b[38;5;129;01min\u001b[39;00m ipt[idx:idx\u001b[38;5;241m+\u001b[39mbatch]:\n\u001b[0;32m    701\u001b[0m         _ \u001b[38;5;241m=\u001b[39m np\u001b[38;5;241m.\u001b[39mfull(j[\u001b[38;5;124m'\u001b[39m\u001b[38;5;124mbvp\u001b[39m\u001b[38;5;124m'\u001b[39m]\u001b[38;5;241m.\u001b[39mshape, np\u001b[38;5;241m.\u001b[39mnan)\n",
      "File \u001b[1;32m~\\anaconda3\\Lib\\site-packages\\keras\\src\\utils\\traceback_utils.py:70\u001b[0m, in \u001b[0;36mfilter_traceback.<locals>.error_handler\u001b[1;34m(*args, **kwargs)\u001b[0m\n\u001b[0;32m     67\u001b[0m     filtered_tb \u001b[38;5;241m=\u001b[39m _process_traceback_frames(e\u001b[38;5;241m.\u001b[39m__traceback__)\n\u001b[0;32m     68\u001b[0m     \u001b[38;5;66;03m# To get the full stack trace, call:\u001b[39;00m\n\u001b[0;32m     69\u001b[0m     \u001b[38;5;66;03m# `tf.debugging.disable_traceback_filtering()`\u001b[39;00m\n\u001b[1;32m---> 70\u001b[0m     \u001b[38;5;28;01mraise\u001b[39;00m e\u001b[38;5;241m.\u001b[39mwith_traceback(filtered_tb) \u001b[38;5;28;01mfrom\u001b[39;00m \u001b[38;5;28;01mNone\u001b[39;00m\n\u001b[0;32m     71\u001b[0m \u001b[38;5;28;01mfinally\u001b[39;00m:\n\u001b[0;32m     72\u001b[0m     \u001b[38;5;28;01mdel\u001b[39;00m filtered_tb\n",
      "File \u001b[1;32m~\\anaconda3\\Lib\\site-packages\\keras\\src\\engine\\input_spec.py:253\u001b[0m, in \u001b[0;36massert_input_compatibility\u001b[1;34m(input_spec, inputs, layer_name)\u001b[0m\n\u001b[0;32m    251\u001b[0m     ndim \u001b[38;5;241m=\u001b[39m x\u001b[38;5;241m.\u001b[39mshape\u001b[38;5;241m.\u001b[39mrank\n\u001b[0;32m    252\u001b[0m     \u001b[38;5;28;01mif\u001b[39;00m ndim \u001b[38;5;129;01mis\u001b[39;00m \u001b[38;5;129;01mnot\u001b[39;00m \u001b[38;5;28;01mNone\u001b[39;00m \u001b[38;5;129;01mand\u001b[39;00m ndim \u001b[38;5;241m<\u001b[39m spec\u001b[38;5;241m.\u001b[39mmin_ndim:\n\u001b[1;32m--> 253\u001b[0m         \u001b[38;5;28;01mraise\u001b[39;00m \u001b[38;5;167;01mValueError\u001b[39;00m(\n\u001b[0;32m    254\u001b[0m             \u001b[38;5;124mf\u001b[39m\u001b[38;5;124m'\u001b[39m\u001b[38;5;124mInput \u001b[39m\u001b[38;5;132;01m{\u001b[39;00minput_index\u001b[38;5;132;01m}\u001b[39;00m\u001b[38;5;124m of layer \u001b[39m\u001b[38;5;124m\"\u001b[39m\u001b[38;5;132;01m{\u001b[39;00mlayer_name\u001b[38;5;132;01m}\u001b[39;00m\u001b[38;5;124m\"\u001b[39m\u001b[38;5;124m \u001b[39m\u001b[38;5;124m'\u001b[39m\n\u001b[0;32m    255\u001b[0m             \u001b[38;5;124m\"\u001b[39m\u001b[38;5;124mis incompatible with the layer: \u001b[39m\u001b[38;5;124m\"\u001b[39m\n\u001b[0;32m    256\u001b[0m             \u001b[38;5;124mf\u001b[39m\u001b[38;5;124m\"\u001b[39m\u001b[38;5;124mexpected min_ndim=\u001b[39m\u001b[38;5;132;01m{\u001b[39;00mspec\u001b[38;5;241m.\u001b[39mmin_ndim\u001b[38;5;132;01m}\u001b[39;00m\u001b[38;5;124m, \u001b[39m\u001b[38;5;124m\"\u001b[39m\n\u001b[0;32m    257\u001b[0m             \u001b[38;5;124mf\u001b[39m\u001b[38;5;124m\"\u001b[39m\u001b[38;5;124mfound ndim=\u001b[39m\u001b[38;5;132;01m{\u001b[39;00mndim\u001b[38;5;132;01m}\u001b[39;00m\u001b[38;5;124m. \u001b[39m\u001b[38;5;124m\"\u001b[39m\n\u001b[0;32m    258\u001b[0m             \u001b[38;5;124mf\u001b[39m\u001b[38;5;124m\"\u001b[39m\u001b[38;5;124mFull shape received: \u001b[39m\u001b[38;5;132;01m{\u001b[39;00m\u001b[38;5;28mtuple\u001b[39m(shape)\u001b[38;5;132;01m}\u001b[39;00m\u001b[38;5;124m\"\u001b[39m\n\u001b[0;32m    259\u001b[0m         )\n\u001b[0;32m    260\u001b[0m \u001b[38;5;66;03m# Check dtype.\u001b[39;00m\n\u001b[0;32m    261\u001b[0m \u001b[38;5;28;01mif\u001b[39;00m spec\u001b[38;5;241m.\u001b[39mdtype \u001b[38;5;129;01mis\u001b[39;00m \u001b[38;5;129;01mnot\u001b[39;00m \u001b[38;5;28;01mNone\u001b[39;00m:\n",
      "\u001b[1;31mValueError\u001b[0m: Exception encountered when calling layer 'NoobHeart' (type Sequential).\n\nInput 0 of layer \"conv3d_15\" is incompatible with the layer: expected min_ndim=5, found ndim=4. Full shape received: (32, 32, 8, 8)\n\nCall arguments received by layer 'NoobHeart' (type Sequential):\n  • inputs=tf.Tensor(shape=(32, 32, 8, 8), dtype=float32)\n  • training=None\n  • mask=None"
     ]
    }
   ],
   "source": [
    "# Normal Scale\n",
    "eval_on_dataset(test_set_COHFACE, model, 32, (8, 8), step=1, batch=32, save='../results/NoobHeart_Cohface.h5')\n",
    "get_metrics('../results/NoobHeart_Cohface.h5',)"
   ]
  },
  {
   "cell_type": "code",
   "execution_count": 31,
   "metadata": {},
   "outputs": [
    {
     "name": "stderr",
     "output_type": "stream",
     "text": [
      "  0%|                                                                                          | 0/164 [00:00<?, ?it/s]\n"
     ]
    },
    {
     "ename": "ValueError",
     "evalue": "Exception encountered when calling layer 'NoobHeart' (type Sequential).\n\nInput 0 of layer \"conv3d_15\" is incompatible with the layer: expected min_ndim=5, found ndim=4. Full shape received: (32, 32, 8, 8)\n\nCall arguments received by layer 'NoobHeart' (type Sequential):\n  • inputs=tf.Tensor(shape=(32, 32, 8, 8), dtype=float32)\n  • training=None\n  • mask=None",
     "output_type": "error",
     "traceback": [
      "\u001b[1;31m---------------------------------------------------------------------------\u001b[0m",
      "\u001b[1;31mValueError\u001b[0m                                Traceback (most recent call last)",
      "Cell \u001b[1;32mIn[31], line 1\u001b[0m\n\u001b[1;32m----> 1\u001b[0m eval_on_dataset(test_set_COHFACE, model, \u001b[38;5;241m32\u001b[39m, (\u001b[38;5;241m8\u001b[39m, \u001b[38;5;241m8\u001b[39m), step\u001b[38;5;241m=\u001b[39m\u001b[38;5;241m1\u001b[39m, batch\u001b[38;5;241m=\u001b[39m\u001b[38;5;241m32\u001b[39m, save\u001b[38;5;241m=\u001b[39m\u001b[38;5;124m'\u001b[39m\u001b[38;5;124m../results/NoobHeart_Cohface.h5\u001b[39m\u001b[38;5;124m'\u001b[39m)\n\u001b[0;32m      2\u001b[0m get_metrics(\u001b[38;5;124m'\u001b[39m\u001b[38;5;124m../results/NoobHeart_Cohface.h5\u001b[39m\u001b[38;5;124m'\u001b[39m,)\n",
      "File \u001b[1;32m~\\Downloads\\PhysBench-main\\PhysBench-main\\benchmark_RLAP\\..\\utils.py:699\u001b[0m, in \u001b[0;36meval_on_dataset\u001b[1;34m(dataset, model, input_frames, input_resolution, output, fps, step, save, batch, cumsum, sample, ipt_dtype, selector, **kw)\u001b[0m\n\u001b[0;32m    697\u001b[0m \u001b[38;5;28;01mfor\u001b[39;00m idx \u001b[38;5;129;01min\u001b[39;00m np\u001b[38;5;241m.\u001b[39marange(\u001b[38;5;241m0\u001b[39m, \u001b[38;5;28mlen\u001b[39m(ipt), batch):\n\u001b[0;32m    698\u001b[0m     o \u001b[38;5;241m=\u001b[39m model(np\u001b[38;5;241m.\u001b[39mstack([i[\u001b[38;5;241m1\u001b[39m] \u001b[38;5;28;01mfor\u001b[39;00m i \u001b[38;5;129;01min\u001b[39;00m ipt[idx:idx\u001b[38;5;241m+\u001b[39mbatch]])\u001b[38;5;241m.\u001b[39mastype(ipt_dtype))\n\u001b[1;32m--> 699\u001b[0m     n \u001b[38;5;241m=\u001b[39m \u001b[38;5;241m0\u001b[39m\n\u001b[0;32m    700\u001b[0m     \u001b[38;5;28;01mfor\u001b[39;00m (i0, i1), vid \u001b[38;5;129;01min\u001b[39;00m ipt[idx:idx\u001b[38;5;241m+\u001b[39mbatch]:\n\u001b[0;32m    701\u001b[0m         _ \u001b[38;5;241m=\u001b[39m np\u001b[38;5;241m.\u001b[39mfull(j[\u001b[38;5;124m'\u001b[39m\u001b[38;5;124mbvp\u001b[39m\u001b[38;5;124m'\u001b[39m]\u001b[38;5;241m.\u001b[39mshape, np\u001b[38;5;241m.\u001b[39mnan)\n",
      "File \u001b[1;32m~\\anaconda3\\Lib\\site-packages\\keras\\src\\utils\\traceback_utils.py:70\u001b[0m, in \u001b[0;36mfilter_traceback.<locals>.error_handler\u001b[1;34m(*args, **kwargs)\u001b[0m\n\u001b[0;32m     67\u001b[0m     filtered_tb \u001b[38;5;241m=\u001b[39m _process_traceback_frames(e\u001b[38;5;241m.\u001b[39m__traceback__)\n\u001b[0;32m     68\u001b[0m     \u001b[38;5;66;03m# To get the full stack trace, call:\u001b[39;00m\n\u001b[0;32m     69\u001b[0m     \u001b[38;5;66;03m# `tf.debugging.disable_traceback_filtering()`\u001b[39;00m\n\u001b[1;32m---> 70\u001b[0m     \u001b[38;5;28;01mraise\u001b[39;00m e\u001b[38;5;241m.\u001b[39mwith_traceback(filtered_tb) \u001b[38;5;28;01mfrom\u001b[39;00m \u001b[38;5;28;01mNone\u001b[39;00m\n\u001b[0;32m     71\u001b[0m \u001b[38;5;28;01mfinally\u001b[39;00m:\n\u001b[0;32m     72\u001b[0m     \u001b[38;5;28;01mdel\u001b[39;00m filtered_tb\n",
      "File \u001b[1;32m~\\anaconda3\\Lib\\site-packages\\keras\\src\\engine\\input_spec.py:253\u001b[0m, in \u001b[0;36massert_input_compatibility\u001b[1;34m(input_spec, inputs, layer_name)\u001b[0m\n\u001b[0;32m    251\u001b[0m     ndim \u001b[38;5;241m=\u001b[39m x\u001b[38;5;241m.\u001b[39mshape\u001b[38;5;241m.\u001b[39mrank\n\u001b[0;32m    252\u001b[0m     \u001b[38;5;28;01mif\u001b[39;00m ndim \u001b[38;5;129;01mis\u001b[39;00m \u001b[38;5;129;01mnot\u001b[39;00m \u001b[38;5;28;01mNone\u001b[39;00m \u001b[38;5;129;01mand\u001b[39;00m ndim \u001b[38;5;241m<\u001b[39m spec\u001b[38;5;241m.\u001b[39mmin_ndim:\n\u001b[1;32m--> 253\u001b[0m         \u001b[38;5;28;01mraise\u001b[39;00m \u001b[38;5;167;01mValueError\u001b[39;00m(\n\u001b[0;32m    254\u001b[0m             \u001b[38;5;124mf\u001b[39m\u001b[38;5;124m'\u001b[39m\u001b[38;5;124mInput \u001b[39m\u001b[38;5;132;01m{\u001b[39;00minput_index\u001b[38;5;132;01m}\u001b[39;00m\u001b[38;5;124m of layer \u001b[39m\u001b[38;5;124m\"\u001b[39m\u001b[38;5;132;01m{\u001b[39;00mlayer_name\u001b[38;5;132;01m}\u001b[39;00m\u001b[38;5;124m\"\u001b[39m\u001b[38;5;124m \u001b[39m\u001b[38;5;124m'\u001b[39m\n\u001b[0;32m    255\u001b[0m             \u001b[38;5;124m\"\u001b[39m\u001b[38;5;124mis incompatible with the layer: \u001b[39m\u001b[38;5;124m\"\u001b[39m\n\u001b[0;32m    256\u001b[0m             \u001b[38;5;124mf\u001b[39m\u001b[38;5;124m\"\u001b[39m\u001b[38;5;124mexpected min_ndim=\u001b[39m\u001b[38;5;132;01m{\u001b[39;00mspec\u001b[38;5;241m.\u001b[39mmin_ndim\u001b[38;5;132;01m}\u001b[39;00m\u001b[38;5;124m, \u001b[39m\u001b[38;5;124m\"\u001b[39m\n\u001b[0;32m    257\u001b[0m             \u001b[38;5;124mf\u001b[39m\u001b[38;5;124m\"\u001b[39m\u001b[38;5;124mfound ndim=\u001b[39m\u001b[38;5;132;01m{\u001b[39;00mndim\u001b[38;5;132;01m}\u001b[39;00m\u001b[38;5;124m. \u001b[39m\u001b[38;5;124m\"\u001b[39m\n\u001b[0;32m    258\u001b[0m             \u001b[38;5;124mf\u001b[39m\u001b[38;5;124m\"\u001b[39m\u001b[38;5;124mFull shape received: \u001b[39m\u001b[38;5;132;01m{\u001b[39;00m\u001b[38;5;28mtuple\u001b[39m(shape)\u001b[38;5;132;01m}\u001b[39;00m\u001b[38;5;124m\"\u001b[39m\n\u001b[0;32m    259\u001b[0m         )\n\u001b[0;32m    260\u001b[0m \u001b[38;5;66;03m# Check dtype.\u001b[39;00m\n\u001b[0;32m    261\u001b[0m \u001b[38;5;28;01mif\u001b[39;00m spec\u001b[38;5;241m.\u001b[39mdtype \u001b[38;5;129;01mis\u001b[39;00m \u001b[38;5;129;01mnot\u001b[39;00m \u001b[38;5;28;01mNone\u001b[39;00m:\n",
      "\u001b[1;31mValueError\u001b[0m: Exception encountered when calling layer 'NoobHeart' (type Sequential).\n\nInput 0 of layer \"conv3d_15\" is incompatible with the layer: expected min_ndim=5, found ndim=4. Full shape received: (32, 32, 8, 8)\n\nCall arguments received by layer 'NoobHeart' (type Sequential):\n  • inputs=tf.Tensor(shape=(32, 32, 8, 8), dtype=float32)\n  • training=None\n  • mask=None"
     ]
    }
   ],
   "source": [
    "eval_on_dataset(test_set_COHFACE, model, 32, (8, 8), step=1, batch=32, save='../results/NoobHeart_Cohface.h5')\n",
    "get_metrics('../results/NoobHeart_Cohface.h5',)"
   ]
  },
  {
   "cell_type": "code",
   "execution_count": 9,
   "metadata": {},
   "outputs": [
    {
     "name": "stderr",
     "output_type": "stream",
     "text": [
      "100%|████████████████████████████████████████████████████████████████████████████████| 164/164 [00:05<00:00, 29.22it/s]\n"
     ]
    },
    {
     "data": {
      "text/plain": [
       "{'Sliding window': {'MAE': 23.386, 'RMSE': 27.999, 'R': -0.14362},\n",
       " 'Whole video': {'MAE': 24.386, 'RMSE': 28.787, 'R': -0.21976}}"
      ]
     },
     "execution_count": 9,
     "metadata": {},
     "output_type": "execute_result"
    }
   ],
   "source": [
    "eval_on_dataset(test_set_CCNU_rPPG, model, 32, (8, 8), step=1, batch=32, save='../results/NoobHeart_CCNU_CCNU_rPPG.h5')\n",
    "get_metrics('../results/NoobHeart_CCNU_CCNU_rPPG.h5',)\n",
    "#get_metrics_HRV('../results/NoobHeart_CCNU_CCNU_rPPG.h5',)"
   ]
  },
  {
   "cell_type": "code",
   "execution_count": 7,
   "metadata": {},
   "outputs": [
    {
     "name": "stderr",
     "output_type": "stream",
     "text": [
      "100%|██████████| 59/59 [00:02<00:00, 22.77it/s]\n"
     ]
    },
    {
     "data": {
      "text/plain": [
       "{'Sliding window': {'MAE': 1.121, 'RMSE': 6.905, 'R': 0.95399},\n",
       " 'Whole video': {'MAE': 0.438, 'RMSE': 0.701, 'R': 0.99968}}"
      ]
     },
     "execution_count": 7,
     "metadata": {},
     "output_type": "execute_result"
    }
   ],
   "source": [
    "eval_on_dataset(test_set_PURE, model, 32, (8, 8), step=1, batch=32, save='../results/NoobHeart_CCNU_PURE.h5')\n",
    "get_metrics('../results/NoobHeart_CCNU_PURE.h5',)\n",
    "#get_metrics_HRV('../results/NoobHeart_CCNU_PURE.h5',)"
   ]
  },
  {
   "cell_type": "code",
   "execution_count": 8,
   "metadata": {},
   "outputs": [
    {
     "name": "stderr",
     "output_type": "stream",
     "text": [
      "100%|██████████| 42/42 [00:01<00:00, 26.05it/s]\n"
     ]
    },
    {
     "data": {
      "text/plain": [
       "{'Sliding window': {'MAE': 1.762, 'RMSE': 4.327, 'R': 0.96993},\n",
       " 'Whole video': {'MAE': 1.155, 'RMSE': 1.695, 'R': 0.99633}}"
      ]
     },
     "execution_count": 8,
     "metadata": {},
     "output_type": "execute_result"
    }
   ],
   "source": [
    "eval_on_dataset(test_set_UBFC_rPPG2, model, 32, (8, 8), step=1, batch=32, save='../results/NoobHeart_CCNU_UBFC.h5')\n",
    "get_metrics('../results/NoobHeart_CCNU_UBFC.h5',)\n",
    "#get_metrics_HRV('../results/NoobHeart_CCNU_UBFC.h5',)"
   ]
  },
  {
   "cell_type": "code",
   "execution_count": 11,
   "metadata": {},
   "outputs": [
    {
     "name": "stderr",
     "output_type": "stream",
     "text": [
      "100%|██████████| 660/660 [00:35<00:00, 18.64it/s]\n"
     ]
    },
    {
     "data": {
      "text/plain": [
       "{'Sliding window': {'MAE': 4.962, 'RMSE': 9.607, 'R': 0.52993},\n",
       " 'Whole video': {'MAE': 2.776, 'RMSE': 6.311, 'R': 0.76314}}"
      ]
     },
     "execution_count": 11,
     "metadata": {},
     "output_type": "execute_result"
    }
   ],
   "source": [
    "eval_on_dataset(test_set_MMPD, model, 32, (8, 8), step=0.5, batch=32, save='../results/NoobHeart_CCNU_MMPD.h5')\n",
    "get_metrics('../results/NoobHeart_CCNU_MMPD.h5', motion='Stationary', skin_color='3', light=['LED-high', 'Incandescent', 'LED-low'])"
   ]
  },
  {
   "cell_type": "code",
   "execution_count": 10,
   "metadata": {},
   "outputs": [
    {
     "name": "stderr",
     "output_type": "stream",
     "text": [
      "100%|████████████████████████████████████████████████████████████████████████████████| 164/164 [00:10<00:00, 16.32it/s]\n"
     ]
    },
    {
     "data": {
      "text/plain": [
       "{'Sliding window': {'MAE': 24.009, 'RMSE': 28.604, 'R': -0.2251},\n",
       " 'Whole video': {'MAE': 25.747, 'RMSE': 29.974, 'R': -0.31137}}"
      ]
     },
     "execution_count": 10,
     "metadata": {},
     "output_type": "execute_result"
    }
   ],
   "source": [
    "eval_on_dataset(test_set_COHFACE, model, 32, (8, 8), step=0.5, batch=32, save='../results/NoobHeart_CCNU_CHOHFACE.h5')\n",
    "get_metrics('../results/NoobHeart_CCNU_CHOHFACE.h5',)"
   ]
  }
 ],
 "metadata": {
  "kernelspec": {
   "display_name": "Python 3 (ipykernel)",
   "language": "python",
   "name": "python3"
  },
  "language_info": {
   "codemirror_mode": {
    "name": "ipython",
    "version": 3
   },
   "file_extension": ".py",
   "mimetype": "text/x-python",
   "name": "python",
   "nbconvert_exporter": "python",
   "pygments_lexer": "ipython3",
   "version": "3.11.5"
  }
 },
 "nbformat": 4,
 "nbformat_minor": 2
}
