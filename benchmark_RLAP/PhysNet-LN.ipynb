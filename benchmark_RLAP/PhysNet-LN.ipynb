{
 "cells": [
  {
   "cell_type": "code",
   "execution_count": 1,
   "metadata": {},
   "outputs": [],
   "source": [
    "%load_ext autoreload\n",
    "%autoreload 2\n",
    "import sys\n",
    "sys.path.append(\"..\")\n",
    "from utils import *\n",
    "from models import *"
   ]
  },
  {
   "cell_type": "code",
   "execution_count": 2,
   "metadata": {},
   "outputs": [],
   "source": [
    "train_tape = \"Z:/rppg/ccnu_datatape_128x32x32_train.h5\"\n",
    "valid_tape = \"Z:/rppg/ccnu_datatape_128x32x32_valid.h5\"\n",
    "\n",
    "train =  load_datatape(train_tape, use_normalized_bvp=True)\n",
    "valid = load_datatape(valid_tape, use_normalized_bvp=False)\n",
    "\n",
    "#train, valid = to_tf(train).cache(f'{tmp}/physnet'), to_tf(valid).cache(f'{tmp}/physnet')\n",
    "train, valid = to_tf(train), to_tf(valid)"
   ]
  },
  {
   "cell_type": "code",
   "execution_count": 3,
   "metadata": {},
   "outputs": [
    {
     "name": "stdout",
     "output_type": "stream",
     "text": [
      "WARNING:tensorflow:From x:\\Users\\wkg\\anaconda3\\envs\\dl\\lib\\site-packages\\tensorflow\\python\\ops\\nn_ops.py:5044: tensor_shape_from_node_def_name (from tensorflow.python.framework.graph_util_impl) is deprecated and will be removed in a future version.\n",
      "Instructions for updating:\n",
      "Use `tf.compat.v1.graph_util.tensor_shape_from_node_def_name`\n",
      "Flops per frame:54630323\n",
      "Model: \"phys_net\"\n",
      "_________________________________________________________________\n",
      "Layer (type)                 Output Shape              Param #   \n",
      "=================================================================\n",
      "sequential (Sequential)      (None, 128, 32, 32, 16)   1472      \n",
      "_________________________________________________________________\n",
      "sequential_1 (Sequential)    (None, 128, 16, 16, 32)   14112     \n",
      "_________________________________________________________________\n",
      "sequential_2 (Sequential)    (None, 128, 16, 16, 64)   55616     \n",
      "_________________________________________________________________\n",
      "sequential_3 (Sequential)    (None, 64, 8, 8, 64)      110784    \n",
      "_________________________________________________________________\n",
      "sequential_4 (Sequential)    (None, 64, 8, 8, 64)      110784    \n",
      "_________________________________________________________________\n",
      "sequential_5 (Sequential)    (None, 32, 4, 4, 64)      110720    \n",
      "_________________________________________________________________\n",
      "sequential_6 (Sequential)    (None, 32, 4, 4, 64)      110720    \n",
      "_________________________________________________________________\n",
      "sequential_7 (Sequential)    (None, 32, 2, 2, 64)      110720    \n",
      "_________________________________________________________________\n",
      "sequential_8 (Sequential)    (None, 32, 2, 2, 64)      110720    \n",
      "_________________________________________________________________\n",
      "sequential_9 (Sequential)    (None, 64, 2, 2, 64)      16576     \n",
      "_________________________________________________________________\n",
      "sequential_10 (Sequential)   (None, 128, 2, 2, 64)     16704     \n",
      "_________________________________________________________________\n",
      "conv3d_9 (Conv3D)            multiple                  65        \n",
      "_________________________________________________________________\n",
      "max_pooling3d (MaxPooling3D) multiple                  0         \n",
      "_________________________________________________________________\n",
      "max_pooling3d_1 (MaxPooling3 multiple                  0         \n",
      "_________________________________________________________________\n",
      "average_pooling3d (AveragePo multiple                  0         \n",
      "_________________________________________________________________\n",
      "reshape (Reshape)            multiple                  0         \n",
      "=================================================================\n",
      "Total params: 768,993\n",
      "Trainable params: 768,993\n",
      "Non-trainable params: 0\n",
      "_________________________________________________________________\n"
     ]
    }
   ],
   "source": [
    "phys_net = PhysNet(norm='layer')\n",
    "phys_net.compile(optimizer=keras.optimizers.SGD(learning_rate=0.005), loss=np_loss)\n",
    "phys_net.build(input_shape=(None, 128, 32, 32, 3))\n",
    "print(f'Flops per frame:{get_flops(phys_net, input_sig=[tf.TensorSpec([1, 128, 32, 32, 3])])/128:.0f}')\n",
    "phys_net.summary()"
   ]
  },
  {
   "cell_type": "code",
   "execution_count": 4,
   "metadata": {},
   "outputs": [
    {
     "name": "stdout",
     "output_type": "stream",
     "text": [
      "Epoch 1/3\n",
      "2329/2329 [==============================] - 1306s 554ms/step - loss: 0.3017 - val_loss: 0.2744\n",
      "\n",
      "Epoch 00001: val_loss improved from inf to 0.27441, saving model to ../weights\\PhysNet-LN_CCNU.h5\n",
      "Epoch 2/3\n",
      "2329/2329 [==============================] - 1295s 553ms/step - loss: 0.2304 - val_loss: 0.2876\n",
      "\n",
      "Epoch 00002: val_loss did not improve from 0.27441\n",
      "Epoch 3/3\n",
      "2329/2329 [==============================] - 1294s 553ms/step - loss: 0.2122 - val_loss: 0.2511\n",
      "\n",
      "Epoch 00003: val_loss improved from 0.27441 to 0.25112, saving model to ../weights\\PhysNet-LN_CCNU.h5\n"
     ]
    }
   ],
   "source": [
    "phys_net.fit(train.shuffle(2000).batch(32), validation_data=valid.batch(32), epochs=3, callbacks=[keras.callbacks.ModelCheckpoint('../weights/PhysNet-LN_CCNU.h5', monitor='val_loss', verbose=1, save_best_only=True, mode='min', save_weights_only=True)])\n",
    "phys_net.load_weights('../weights/PhysNet-LN_CCNU.h5')"
   ]
  },
  {
   "cell_type": "code",
   "execution_count": 4,
   "metadata": {},
   "outputs": [],
   "source": [
    "phys_net.load_weights('../weights/PhysNet-LN_CCNU.h5')"
   ]
  },
  {
   "cell_type": "code",
   "execution_count": 5,
   "metadata": {},
   "outputs": [
    {
     "name": "stderr",
     "output_type": "stream",
     "text": [
      "100%|██████████| 179/179 [02:46<00:00,  1.08it/s]\n"
     ]
    },
    {
     "data": {
      "text/plain": [
       "{'Sliding window': {'MAE': 1.279, 'RMSE': 5.287, 'R': 0.86218},\n",
       " 'Whole video': {'MAE': 0.626, 'RMSE': 2.721, 'R': 0.95782}}"
      ]
     },
     "execution_count": 5,
     "metadata": {},
     "output_type": "execute_result"
    }
   ],
   "source": [
    "eval_on_dataset(test_set_CCNU, phys_net, 128, (32, 32), step=1, batch=32, save='../results/PhysNet-LN_CCNU_CCNU.h5', sample=cv2.INTER_CUBIC)\n",
    "get_metrics('../results/PhysNet-LN_CCNU_CCNU.h5')"
   ]
  },
  {
   "cell_type": "code",
   "execution_count": 6,
   "metadata": {},
   "outputs": [
    {
     "name": "stderr",
     "output_type": "stream",
     "text": [
      "100%|██████████| 54/54 [00:33<00:00,  1.60it/s]\n"
     ]
    },
    {
     "data": {
      "text/plain": [
       "{'Sliding window': {'MAE': 0.88, 'RMSE': 3.344, 'R': 0.93993},\n",
       " 'Whole video': {'MAE': 0.565, 'RMSE': 1.728, 'R': 0.98321}}"
      ]
     },
     "execution_count": 6,
     "metadata": {},
     "output_type": "execute_result"
    }
   ],
   "source": [
    "eval_on_dataset(test_set_CCNU_rPPG, phys_net, 128, (32, 32), step=1, batch=32, save='../results/PhysNet-LN_CCNU_CCNU_rPPG.h5', sample=cv2.INTER_CUBIC)\n",
    "get_metrics('../results/PhysNet-LN_CCNU_CCNU_rPPG.h5')"
   ]
  },
  {
   "cell_type": "code",
   "execution_count": 7,
   "metadata": {},
   "outputs": [
    {
     "name": "stderr",
     "output_type": "stream",
     "text": [
      "100%|██████████| 59/59 [00:26<00:00,  2.20it/s]\n"
     ]
    },
    {
     "data": {
      "text/plain": [
       "{'Sliding window': {'MAE': 0.756, 'RMSE': 4.733, 'R': 0.97883},\n",
       " 'Whole video': {'MAE': 0.385, 'RMSE': 0.589, 'R': 0.99976}}"
      ]
     },
     "execution_count": 7,
     "metadata": {},
     "output_type": "execute_result"
    }
   ],
   "source": [
    "eval_on_dataset(test_set_PURE, phys_net, 128, (32, 32), step=1, batch=32, save='../results/PhysNet-LN_CCNU_PURE.h5', sample=cv2.INTER_CUBIC)\n",
    "get_metrics('../results/PhysNet-LN_CCNU_PURE.h5')"
   ]
  },
  {
   "cell_type": "code",
   "execution_count": 8,
   "metadata": {},
   "outputs": [
    {
     "name": "stderr",
     "output_type": "stream",
     "text": [
      "100%|██████████| 42/42 [00:15<00:00,  2.71it/s]\n"
     ]
    },
    {
     "data": {
      "text/plain": [
       "{'Sliding window': {'MAE': 1.566, 'RMSE': 4.016, 'R': 0.97316},\n",
       " 'Whole video': {'MAE': 1.006, 'RMSE': 1.491, 'R': 0.99685}}"
      ]
     },
     "execution_count": 8,
     "metadata": {},
     "output_type": "execute_result"
    }
   ],
   "source": [
    "eval_on_dataset(test_set_UBFC_rPPG2, phys_net, 128, (32, 32), step=1, batch=32, save='../results/PhysNet-LN_CCNU_UBFC.h5', sample=cv2.INTER_CUBIC)\n",
    "get_metrics('../results/PhysNet-LN_CCNU_UBFC.h5')"
   ]
  }
 ],
 "metadata": {
  "kernelspec": {
   "display_name": "dl",
   "language": "python",
   "name": "python3"
  },
  "language_info": {
   "codemirror_mode": {
    "name": "ipython",
    "version": 3
   },
   "file_extension": ".py",
   "mimetype": "text/x-python",
   "name": "python",
   "nbconvert_exporter": "python",
   "pygments_lexer": "ipython3",
   "version": "3.9.16"
  },
  "orig_nbformat": 4,
  "vscode": {
   "interpreter": {
    "hash": "ef3e367c2466be0f305882ce2bcd0e67eb2cbba315c01407a1a54a3d07e5496a"
   }
  }
 },
 "nbformat": 4,
 "nbformat_minor": 2
}
