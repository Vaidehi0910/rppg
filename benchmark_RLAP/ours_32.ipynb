{
 "cells": [
  {
   "cell_type": "code",
   "execution_count": 1,
   "metadata": {},
   "outputs": [],
   "source": [
    "%load_ext autoreload\n",
    "%autoreload 2\n",
    "import sys\n",
    "sys.path.append(\"..\")\n",
    "from utils import *\n",
    "from models import *"
   ]
  },
  {
   "cell_type": "code",
   "execution_count": 2,
   "metadata": {},
   "outputs": [],
   "source": [
    "train_tape = \"Z:/rppg/ccnu_datatape_450x32x32_train.h5\"\n",
    "valid_tape = \"Z:/rppg/ccnu_datatape_450x32x32_valid.h5\"\n",
    "\n",
    "train =  load_datatape(train_tape, use_normalized_bvp=True)\n",
    "valid = load_datatape(valid_tape, use_normalized_bvp=False)\n",
    "train, valid = to_tf(train), to_tf(valid)\n",
    "#train, valid = to_tf(train).cache(f'{tmp}/ours_32'), to_tf(valid).cache(f'{tmp}/ours_32')"
   ]
  },
  {
   "cell_type": "code",
   "execution_count": 33,
   "metadata": {},
   "outputs": [
    {
     "name": "stdout",
     "output_type": "stream",
     "text": [
      "Flops per frame:649357\n",
      "Model: \"m_1_3\"\n",
      "_________________________________________________________________\n",
      "Layer (type)                 Output Shape              Param #   \n",
      "=================================================================\n",
      "sequential_22 (Sequential)   (None, 450, 64)           196672    \n",
      "_________________________________________________________________\n",
      "spectral_transform_6 (Spectr multiple                  82560     \n",
      "_________________________________________________________________\n",
      "conv1d_20 (Conv1D)           multiple                  41024     \n",
      "_________________________________________________________________\n",
      "sequential_24 (Sequential)   (None, 450, 64)           256       \n",
      "_________________________________________________________________\n",
      "spectral_transform_7 (Spectr multiple                  49792     \n",
      "_________________________________________________________________\n",
      "conv1d_22 (Conv1D)           multiple                  10272     \n",
      "_________________________________________________________________\n",
      "sequential_26 (Sequential)   (None, 450, 32)           128       \n",
      "_________________________________________________________________\n",
      "sequential_27 (Sequential)   (None, 450)               33        \n",
      "=================================================================\n",
      "Total params: 380,737\n",
      "Trainable params: 380,033\n",
      "Non-trainable params: 704\n",
      "_________________________________________________________________\n"
     ]
    }
   ],
   "source": [
    "m4 = M_1()\n",
    "m4.compile(optimizer='Nadam', loss='mae')\n",
    "m4.build(input_shape=(None, 450, 32, 32, 3))\n",
    "print(f'Flops per frame:{get_flops(m4, input_sig=[tf.TensorSpec([1, 450, 32, 32, 3])])/450:.0f}')\n",
    "m4.summary()"
   ]
  },
  {
   "cell_type": "code",
   "execution_count": null,
   "metadata": {},
   "outputs": [],
   "source": [
    "m4.fit(train.shuffle(2000).batch(32), validation_data=valid.batch(32), epochs=10, callbacks=[keras.callbacks.ModelCheckpoint('../weights/m4.h5', monitor='val_loss', verbose=1, save_best_only=True, mode='min', save_weights_only=True)])\n",
    "m4.load_weights('../weights/m4.h5')"
   ]
  },
  {
   "cell_type": "code",
   "execution_count": 35,
   "metadata": {},
   "outputs": [],
   "source": [
    "m4.load_weights('../weights/m4.h5')\n",
    "#m4.cross()"
   ]
  },
  {
   "cell_type": "code",
   "execution_count": 39,
   "metadata": {},
   "outputs": [
    {
     "name": "stderr",
     "output_type": "stream",
     "text": [
      "100%|██████████| 179/179 [01:53<00:00,  1.58it/s]\n"
     ]
    },
    {
     "data": {
      "text/plain": [
       "{'Sliding window': {'MAE': 1.558, 'RMSE': 5.309, 'R': 0.86769},\n",
       " 'Whole video': {'MAE': 0.83, 'RMSE': 2.878, 'R': 0.953}}"
      ]
     },
     "execution_count": 39,
     "metadata": {},
     "output_type": "execute_result"
    }
   ],
   "source": [
    "eval_on_dataset(test_set_CCNU, m4, 450, (32, 32), step=1, batch=32, save='../results/ours_32_CCNU_CCNU.h5')\n",
    "get_metrics('../results/ours_32_CCNU_CCNU.h5',)"
   ]
  },
  {
   "cell_type": "code",
   "execution_count": 38,
   "metadata": {},
   "outputs": [
    {
     "name": "stderr",
     "output_type": "stream",
     "text": [
      "100%|██████████| 54/54 [00:24<00:00,  2.19it/s]\n"
     ]
    },
    {
     "data": {
      "text/plain": [
       "{'Sliding window': {'MAE': 1.523, 'RMSE': 5.189, 'R': 0.87072},\n",
       " 'Whole video': {'MAE': 0.784, 'RMSE': 2.126, 'R': 0.97533}}"
      ]
     },
     "execution_count": 38,
     "metadata": {},
     "output_type": "execute_result"
    }
   ],
   "source": [
    "eval_on_dataset(test_set_CCNU_rPPG, m4, 450, (32, 32), step=1, batch=32, save='../results/ours_32_CCNU_CCNU_rPPG.h5')\n",
    "get_metrics('../results/ours_32_CCNU_CCNU_rPPG.h5')"
   ]
  },
  {
   "cell_type": "code",
   "execution_count": 37,
   "metadata": {},
   "outputs": [
    {
     "name": "stderr",
     "output_type": "stream",
     "text": [
      "100%|██████████| 59/59 [00:14<00:00,  4.08it/s]\n"
     ]
    },
    {
     "data": {
      "text/plain": [
       "{'Sliding window': {'MAE': 0.425, 'RMSE': 1.29, 'R': 0.99847},\n",
       " 'Whole video': {'MAE': 0.438, 'RMSE': 0.769, 'R': 0.99959}}"
      ]
     },
     "execution_count": 37,
     "metadata": {},
     "output_type": "execute_result"
    }
   ],
   "source": [
    "eval_on_dataset(test_set_PURE, m4, 450, (32, 32), step=1, batch=32, save='../results/ours_32_CCNU_PURE.h5')\n",
    "get_metrics('../results/ours_32_CCNU_PURE.h5')"
   ]
  },
  {
   "cell_type": "code",
   "execution_count": 36,
   "metadata": {},
   "outputs": [
    {
     "name": "stderr",
     "output_type": "stream",
     "text": [
      "100%|██████████| 42/42 [00:09<00:00,  4.40it/s]\n"
     ]
    },
    {
     "data": {
      "text/plain": [
       "{'Sliding window': {'MAE': 1.603, 'RMSE': 3.99, 'R': 0.97338},\n",
       " 'Whole video': {'MAE': 0.827, 'RMSE': 1.473, 'R': 0.99684}}"
      ]
     },
     "execution_count": 36,
     "metadata": {},
     "output_type": "execute_result"
    }
   ],
   "source": [
    "eval_on_dataset(test_set_UBFC_rPPG2, m4, 450, (32, 32), step=1, batch=32, save='../results/ours_32_CCNU_UBFC.h5')\n",
    "get_metrics('../results/ours_32_CCNU_UBFC.h5')"
   ]
  }
 ],
 "metadata": {
  "kernelspec": {
   "display_name": "dl",
   "language": "python",
   "name": "python3"
  },
  "language_info": {
   "codemirror_mode": {
    "name": "ipython",
    "version": 3
   },
   "file_extension": ".py",
   "mimetype": "text/x-python",
   "name": "python",
   "nbconvert_exporter": "python",
   "pygments_lexer": "ipython3",
   "version": "3.9.16"
  },
  "orig_nbformat": 4,
  "vscode": {
   "interpreter": {
    "hash": "ef3e367c2466be0f305882ce2bcd0e67eb2cbba315c01407a1a54a3d07e5496a"
   }
  }
 },
 "nbformat": 4,
 "nbformat_minor": 2
}
